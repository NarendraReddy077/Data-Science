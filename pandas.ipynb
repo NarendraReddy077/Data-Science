{
 "cells": [
  {
   "cell_type": "markdown",
   "id": "8f646ea1-96c8-47e5-975b-84a98184a62b",
   "metadata": {},
   "source": [
    "# Pandas\n",
    "__________\n",
    "**`Pandas:`** Pandas is a Python package that offers various data structures and operations for manipulating numerical data and time series.\n",
    "              Mainly popular for importing and analyzing data much easier."
   ]
  },
  {
   "cell_type": "code",
   "execution_count": 1,
   "id": "2ead8aa1-8fe7-43e2-9f8f-11a5aa903bc2",
   "metadata": {},
   "outputs": [],
   "source": [
    "# !pip install pandas\n",
    "import pandas as pd"
   ]
  },
  {
   "cell_type": "markdown",
   "id": "a41186ed-9d27-48ee-9cc3-ce59431484f0",
   "metadata": {},
   "source": [
    "> ## Series\n",
    "_Pandas series is 1-D labeled array capable of holding data of any type._"
   ]
  },
  {
   "cell_type": "code",
   "execution_count": 6,
   "id": "cf4bf01f-e1ab-4cfe-b4b2-285c7bce0ff2",
   "metadata": {},
   "outputs": [
    {
     "data": {
      "text/plain": [
       "0    1\n",
       "1    2\n",
       "2    3\n",
       "3    4\n",
       "dtype: int64"
      ]
     },
     "execution_count": 6,
     "metadata": {},
     "output_type": "execute_result"
    }
   ],
   "source": [
    "# series through list\n",
    "\n",
    "lst = [1, 2, 3, 4]\n",
    "pd.Series(lst)"
   ]
  },
  {
   "cell_type": "code",
   "execution_count": 8,
   "id": "f81dec63-71eb-4a78-b81a-8def444c219f",
   "metadata": {},
   "outputs": [
    {
     "data": {
      "text/plain": [
       "0    1\n",
       "1    2\n",
       "2    3\n",
       "3    4\n",
       "dtype: int64"
      ]
     },
     "execution_count": 8,
     "metadata": {},
     "output_type": "execute_result"
    }
   ],
   "source": [
    "# series through NUMPY\n",
    "\n",
    "import numpy as np\n",
    "arr = np.array([1, 2, 3, 4])\n",
    "pd.Series(arr)"
   ]
  },
  {
   "cell_type": "markdown",
   "id": "de155582-4df8-4dfa-8380-5bf9848ee0f3",
   "metadata": {},
   "source": [
    "__Giving Index from our own end__"
   ]
  },
  {
   "cell_type": "code",
   "execution_count": 13,
   "id": "ea1f3237-ab3f-4545-b3ce-e06ed3299e20",
   "metadata": {},
   "outputs": [
    {
     "data": {
      "text/plain": [
       "1      mnr\n",
       "2      ram\n",
       "3    rahul\n",
       "4      sai\n",
       "dtype: object"
      ]
     },
     "execution_count": 13,
     "metadata": {},
     "output_type": "execute_result"
    }
   ],
   "source": [
    "pd.Series(data = ['mnr', 'ram', 'rahul', 'sai'], index = [1, 2 ,3, 4])"
   ]
  },
  {
   "cell_type": "markdown",
   "id": "723a9fa3-bf2e-4d57-9b9a-390f6a506ee4",
   "metadata": {},
   "source": [
    "__Series through Dictionary__"
   ]
  },
  {
   "cell_type": "code",
   "execution_count": 14,
   "id": "a673de6c-09c1-45ac-b2b4-0444f92922bd",
   "metadata": {},
   "outputs": [
    {
     "data": {
      "text/plain": [
       "1      MNR\n",
       "2    pravs\n",
       "3     hari\n",
       "dtype: object"
      ]
     },
     "execution_count": 14,
     "metadata": {},
     "output_type": "execute_result"
    }
   ],
   "source": [
    "d = {1: 'MNR', 2: 'pravs', 3: 'hari'}\n",
    "pd.Series(d)"
   ]
  },
  {
   "cell_type": "markdown",
   "id": "9f5eb840-a8b6-49c8-aef8-6dc5651d7c59",
   "metadata": {},
   "source": [
    "#### Using `repeat` function along with creating a Series"
   ]
  },
  {
   "cell_type": "markdown",
   "id": "37a24752-52b6-456e-8ce9-9a773630ee9e",
   "metadata": {},
   "source": [
    "Pandas Series.repeat() function repeat elements of a Series. It returns a new Series where each element of the current Series is repeated consecutively a given number of times."
   ]
  },
  {
   "cell_type": "code",
   "execution_count": 4,
   "id": "1c38976a-6baf-45b6-a307-1b4bacec168b",
   "metadata": {},
   "outputs": [
    {
     "data": {
      "text/plain": [
       "0    MNR\n",
       "0    MNR\n",
       "0    MNR\n",
       "dtype: object"
      ]
     },
     "execution_count": 4,
     "metadata": {},
     "output_type": "execute_result"
    }
   ],
   "source": [
    "pd.Series('MNR').repeat(3)"
   ]
  },
  {
   "cell_type": "markdown",
   "id": "3dbc2a70-f833-419e-95c6-3e58b4e2b01a",
   "metadata": {},
   "source": [
    "We can use the reset_index to make the index accurate"
   ]
  },
  {
   "cell_type": "code",
   "execution_count": 7,
   "id": "8da73ca3-be20-41de-a754-d28deeb5c8da",
   "metadata": {},
   "outputs": [
    {
     "data": {
      "text/plain": [
       "0    5\n",
       "1    5\n",
       "2    5\n",
       "dtype: int64"
      ]
     },
     "execution_count": 7,
     "metadata": {},
     "output_type": "execute_result"
    }
   ],
   "source": [
    "# type(pd.Series(5).repeat(3).reset_index())   --> DataFrame\n",
    "pd.Series(5).repeat(3).reset_index(drop=True)"
   ]
  },
  {
   "cell_type": "markdown",
   "id": "7703fdb3-edbe-4439-b583-d4682b39f927",
   "metadata": {},
   "source": [
    "The below code indicates:\n",
    "- MNR should be repeated 3 times and \n",
    "- Narendra should be repeated 4 times\n",
    "- Reddy should be repeated 3 times\n",
    "- and so on"
   ]
  },
  {
   "cell_type": "code",
   "execution_count": null,
   "id": "481af8fa-6809-4256-a6f4-b5b3cb432034",
   "metadata": {},
   "outputs": [],
   "source": [
    "s = pd.Series(['MNR', \"Narendra\", 'Reddy']).repeat([3, 4, 3]).reset_index(drop=True)\n",
    "s"
   ]
  },
  {
   "cell_type": "markdown",
   "id": "dc6c1acb-9808-45ef-ac0b-a2e11dc0ffd2",
   "metadata": {},
   "source": [
    "#### Accessing elements"
   ]
  },
  {
   "cell_type": "code",
   "execution_count": 15,
   "id": "08c0c0bf-d254-4524-a0c8-4a703e6e40c0",
   "metadata": {},
   "outputs": [
    {
     "name": "stdout",
     "output_type": "stream",
     "text": [
      "MNR Narendra Reddy\n"
     ]
    }
   ],
   "source": [
    "print(s[0], s[4], s[8])"
   ]
  },
  {
   "cell_type": "raw",
   "id": "fdf8d3fe-2f9f-43ea-b841-554a82445835",
   "metadata": {},
   "source": [
    "Slicing\n",
    "Mostly similar as slicing in list"
   ]
  },
  {
   "cell_type": "code",
   "execution_count": null,
   "id": "0ae80894-154a-4b32-8f98-5da50d6a1359",
   "metadata": {},
   "outputs": [],
   "source": [
    "# s[:]\n",
    "# s[0:4]\n",
    "# s[0:-5]\n",
    "# s[0:10:2]\n",
    "# s[::-1]"
   ]
  },
  {
   "cell_type": "markdown",
   "id": "6a8fce7c-af33-42bd-beec-b14c75597748",
   "metadata": {},
   "source": [
    "### `Aggregate function` on pandas Series"
   ]
  },
  {
   "cell_type": "markdown",
   "id": "304ff7fe-f91a-4365-975c-bd9b5dc078a4",
   "metadata": {},
   "source": [
    "Pandas Series.aggregate() function aggregate using one or more operations over the specified axis in the given series object."
   ]
  },
  {
   "cell_type": "code",
   "execution_count": 10,
   "id": "a0619701-01df-4a49-806f-6efb55704387",
   "metadata": {},
   "outputs": [
    {
     "data": {
      "text/plain": [
       "min           1.0\n",
       "max           8.0\n",
       "sum          36.0\n",
       "mean          4.5\n",
       "median        4.5\n",
       "prod      40320.0\n",
       "dtype: float64"
      ]
     },
     "execution_count": 10,
     "metadata": {},
     "output_type": "execute_result"
    }
   ],
   "source": [
    "ar = pd.Series([1, 2, 3, 4, 5, 6, 7, 8])\n",
    "# a = ar.agg([min:= 'min', max := 'max', sum := 'sum', 'mean', 'median', product := 'prod'])\n",
    "# a[product]\n",
    "ar.agg(['min', 'max', 'sum', 'mean', 'median', 'prod'])   # `agg` is an alias for `aggregate`"
   ]
  },
  {
   "cell_type": "markdown",
   "id": "4c95c3fb-71fe-4577-adae-1b2d81cd9884",
   "metadata": {},
   "source": [
    "### Series `absolute` function"
   ]
  },
  {
   "cell_type": "markdown",
   "id": "3ccbaf2e-311a-4be8-a722-ecc37d56d97b",
   "metadata": {},
   "source": [
    "> Pandas Series.abs() method is used to get the absolute numeric value of each element in Series/DataFrame."
   ]
  },
  {
   "cell_type": "code",
   "execution_count": null,
   "id": "7e7ee18d-c8bb-42b3-bfbe-c4fff1480096",
   "metadata": {},
   "outputs": [],
   "source": [
    "sr = pd.Series([1, -3, 4, -67, 4, 5 -23])\n",
    "sr.abs()"
   ]
  },
  {
   "cell_type": "markdown",
   "id": "10102d1b-8fdb-4cc5-bb38-0703f38f02b4",
   "metadata": {},
   "source": [
    "### `Appending Series`"
   ]
  },
  {
   "cell_type": "markdown",
   "id": "8b9337ec-8071-4d25-b485-89a5384abf48",
   "metadata": {},
   "source": [
    "> Pandas Series.concat() function is used to concatenate two or more series object."
   ]
  },
  {
   "cell_type": "code",
   "execution_count": 6,
   "id": "13f52328-3880-4bfb-8d15-1640412dda94",
   "metadata": {},
   "outputs": [
    {
     "data": {
      "text/plain": [
       "0    a\n",
       "1    b\n",
       "2    c\n",
       "3    f\n",
       "4    r\n",
       "dtype: object"
      ]
     },
     "execution_count": 6,
     "metadata": {},
     "output_type": "execute_result"
    }
   ],
   "source": [
    "sr1 = pd.Series(['a', 'b', 'c'])\n",
    "sr2 = pd.Series(['f', 'r'])\n",
    "sr3 = pd.concat([sr1, sr2]).reset_index(drop = True)\n",
    "sr3"
   ]
  },
  {
   "cell_type": "markdown",
   "id": "974c3d01-a2fa-4ade-a3ae-805e817d7a12",
   "metadata": {},
   "source": [
    "### `astype` function"
   ]
  },
  {
   "cell_type": "markdown",
   "id": "2cc877f3-40e6-43c8-88cf-673bce29b29e",
   "metadata": {},
   "source": [
    "> Used to chage data type of series"
   ]
  },
  {
   "cell_type": "code",
   "execution_count": 15,
   "id": "5cd62b70-0023-4068-ba55-68773d7e551e",
   "metadata": {},
   "outputs": [
    {
     "data": {
      "text/plain": [
       "0    1\n",
       "1   -4\n",
       "2    5\n",
       "3   -2\n",
       "dtype: int64"
      ]
     },
     "execution_count": 15,
     "metadata": {},
     "output_type": "execute_result"
    }
   ],
   "source": [
    "sr = pd.Series([1, -4, 5, -2])\n",
    "sr"
   ]
  },
  {
   "cell_type": "code",
   "execution_count": 16,
   "id": "d6ed90ad-c5fc-4f72-a373-2354868b32a3",
   "metadata": {},
   "outputs": [
    {
     "data": {
      "text/plain": [
       "0    1.0\n",
       "1   -4.0\n",
       "2    5.0\n",
       "3   -2.0\n",
       "dtype: float64"
      ]
     },
     "execution_count": 16,
     "metadata": {},
     "output_type": "execute_result"
    }
   ],
   "source": [
    "sr.astype('float')"
   ]
  },
  {
   "cell_type": "markdown",
   "id": "4a580920-2c47-4788-91fa-426c991e6501",
   "metadata": {},
   "source": [
    "### `between` function"
   ]
  },
  {
   "cell_type": "markdown",
   "id": "a49b0bd4-1ddc-47e7-a688-72e3aaaf9b20",
   "metadata": {},
   "source": [
    "> Pandas Series.between(): Return boolean Series equivalent to left <= series <= right."
   ]
  },
  {
   "cell_type": "code",
   "execution_count": 20,
   "id": "a51dbd8f-7a04-48d9-895b-8e2259489e6a",
   "metadata": {},
   "outputs": [
    {
     "data": {
      "text/plain": [
       "0    False\n",
       "1     True\n",
       "2    False\n",
       "3    False\n",
       "4    False\n",
       "5    False\n",
       "6     True\n",
       "dtype: bool"
      ]
     },
     "execution_count": 20,
     "metadata": {},
     "output_type": "execute_result"
    }
   ],
   "source": [
    "sr = pd.Series([10, 20, 5, 3, 40, 30, 12])\n",
    "sr.between(10, 30, inclusive='neither')     # default inclusive = 'both'"
   ]
  },
  {
   "cell_type": "markdown",
   "id": "e602a18f-fe55-4c90-89eb-2486835d6494",
   "metadata": {},
   "source": [
    "### All `string functions` can to used to extract or modify strings in a series"
   ]
  },
  {
   "cell_type": "markdown",
   "id": "02336699-8dc8-4880-b846-0049cf67b770",
   "metadata": {},
   "source": [
    "> `upper`, `lower`, `title`, `capitalize`, `casefold` and `swapcase` functions"
   ]
  },
  {
   "cell_type": "code",
   "execution_count": 7,
   "id": "cbd37c3b-714e-4714-bef3-b8e58dc16479",
   "metadata": {},
   "outputs": [],
   "source": [
    "siri = pd.Series([\"Narendra Reddy\" , \"Data Science\" , \"Geeks for Geeks\" , 'Hello World' , 'Machine Learning'])"
   ]
  },
  {
   "cell_type": "code",
   "execution_count": 29,
   "id": "1f6e3090-9190-4e7a-8954-ad8c3280239a",
   "metadata": {},
   "outputs": [],
   "source": [
    "# siri.str.upper()\n",
    "# siri.str.lower()\n",
    "# siri.str.title()\n",
    "# siri.str.capitalize()\n",
    "# siri.str.casefold()\n",
    "# siri.str.swapcase()"
   ]
  },
  {
   "cell_type": "markdown",
   "id": "53a2ba20-5606-490d-a6c7-910cdfdffc4f",
   "metadata": {},
   "source": [
    "> `strip` function"
   ]
  },
  {
   "cell_type": "code",
   "execution_count": null,
   "id": "887c8c94-9745-48b2-82e5-c1c1fffbe16a",
   "metadata": {},
   "outputs": [],
   "source": [
    "siri = pd.Series([\"  Narendra Reddy\" , \"Data Science  \" , \"Geeks for Geeks\" , 'Hello World' , 'Machine Learning  '])\n",
    "siri.str.strip()\n",
    "# print(siri)"
   ]
  },
  {
   "cell_type": "markdown",
   "id": "54ebb1eb-6dde-427b-9979-23a34368fe0e",
   "metadata": {},
   "source": [
    "> `split` function"
   ]
  },
  {
   "cell_type": "code",
   "execution_count": 10,
   "id": "49573f48-fb7c-41a1-9067-6f185ad33b1e",
   "metadata": {},
   "outputs": [
    {
     "data": {
      "text/plain": [
       "0      [Narendra, Reddy]\n",
       "1        [Data, Science]\n",
       "2    [Geeks, for, Geeks]\n",
       "3         [Hello, World]\n",
       "4    [Machine, Learning]\n",
       "dtype: object"
      ]
     },
     "execution_count": 10,
     "metadata": {},
     "output_type": "execute_result"
    }
   ],
   "source": [
    "siri = pd.Series([\"Narendra Reddy\" , \"Data Science\" , \"Geeks for Geeks\" , 'Hello World' , 'Machine Learning'])\n",
    "# siri.str.split(n = 1)\n",
    "# siri.str.split()[0][1]\n",
    "siri.str.split()"
   ]
  },
  {
   "cell_type": "markdown",
   "id": "7068d1f8-bb1d-4f8a-a5c9-3e66041b867c",
   "metadata": {},
   "source": [
    "> `contains` function"
   ]
  },
  {
   "cell_type": "code",
   "execution_count": null,
   "id": "9991e3d6-6b78-4365-8290-4afaffa9fc67",
   "metadata": {},
   "outputs": [],
   "source": [
    "siri = pd.Series([\"Narendra Reddy\" , \"Data@Science\" , \"Geeks for Geeks\" , 'Hello@World' , 'Machine Learning'])\n",
    "siri.str.contains('@')"
   ]
  },
  {
   "cell_type": "markdown",
   "id": "f4733b2c-a53f-4a0a-80f0-f902de4676f5",
   "metadata": {},
   "source": [
    "> `replace` function"
   ]
  },
  {
   "cell_type": "code",
   "execution_count": null,
   "id": "d362817b-9ce1-4c61-8810-77ac60c894f4",
   "metadata": {},
   "outputs": [],
   "source": [
    "siri = siri.str.replace('@', ' ')\n",
    "print(siri)"
   ]
  },
  {
   "cell_type": "markdown",
   "id": "4cbd8ba7-fbe9-4d44-9562-7269345e446b",
   "metadata": {},
   "source": [
    "> `count` function"
   ]
  },
  {
   "cell_type": "code",
   "execution_count": null,
   "id": "3d1171be-61d1-490e-b0cb-4ebd6bdc8990",
   "metadata": {},
   "outputs": [],
   "source": [
    "siri.str.count('a')"
   ]
  },
  {
   "cell_type": "markdown",
   "id": "211481c1-cdef-4f0f-aea6-590a93161c55",
   "metadata": {},
   "source": [
    "> `startswith` and `endswith` function"
   ]
  },
  {
   "cell_type": "code",
   "execution_count": 56,
   "id": "becae7a4-fc35-4f9a-bcfc-a26dbd9fe03f",
   "metadata": {},
   "outputs": [
    {
     "data": {
      "text/plain": [
       "0    False\n",
       "1    False\n",
       "2     True\n",
       "3    False\n",
       "4    False\n",
       "dtype: bool"
      ]
     },
     "execution_count": 56,
     "metadata": {},
     "output_type": "execute_result"
    }
   ],
   "source": [
    "# siri.str.startswith('N')\n",
    "siri.str.endswith('s')"
   ]
  },
  {
   "cell_type": "markdown",
   "id": "47be371b-6be4-40dc-a466-43a52f472062",
   "metadata": {},
   "source": [
    "> `find` function"
   ]
  },
  {
   "cell_type": "code",
   "execution_count": null,
   "id": "e9d5147f-2166-4c93-aa50-0bd9135728fa",
   "metadata": {},
   "outputs": [],
   "source": [
    "# s = 'Narendra'\n",
    "# s.find('d')     #Return the lowest index in S where substring sub is found, such that sub is contained within S[start:end].\n",
    "siri.str.find('Geeks')"
   ]
  },
  {
   "cell_type": "code",
   "execution_count": null,
   "id": "275490e6-3359-4167-9679-1cc1b763497b",
   "metadata": {},
   "outputs": [],
   "source": [
    "siri.str.findall('Geeks')"
   ]
  },
  {
   "cell_type": "markdown",
   "id": "51d04675-f777-4200-9397-44032b0b2ace",
   "metadata": {},
   "source": [
    "### Converting Series to list"
   ]
  },
  {
   "cell_type": "markdown",
   "id": "738a1c18-2188-44a4-b806-3ebed1c5fd3b",
   "metadata": {},
   "source": [
    "> `to_list()` function is used to convert series to list."
   ]
  },
  {
   "cell_type": "code",
   "execution_count": 7,
   "id": "4df2c8e1-50b3-45b4-9c54-57e6735cb2ee",
   "metadata": {},
   "outputs": [
    {
     "name": "stdout",
     "output_type": "stream",
     "text": [
      "['Narendra Reddy', 'Data Science', 'Geeks for Geeks', 'Hello World', 'Machine Learning']\n"
     ]
    }
   ],
   "source": [
    "li = siri.to_list()\n",
    "print(li)"
   ]
  },
  {
   "cell_type": "markdown",
   "id": "4c85173b-5bd3-477b-9c75-f13b6cca9295",
   "metadata": {},
   "source": [
    "# <font color='green'> Detailed coding Implementations on Pandas DataFrame </font>\n",
    "___"
   ]
  },
  {
   "cell_type": "code",
   "execution_count": 16,
   "id": "fe0301f3-9aca-40c1-91fe-a8d248be3cc6",
   "metadata": {},
   "outputs": [
    {
     "data": {
      "text/html": [
       "<div>\n",
       "<style scoped>\n",
       "    .dataframe tbody tr th:only-of-type {\n",
       "        vertical-align: middle;\n",
       "    }\n",
       "\n",
       "    .dataframe tbody tr th {\n",
       "        vertical-align: top;\n",
       "    }\n",
       "\n",
       "    .dataframe thead th {\n",
       "        text-align: right;\n",
       "    }\n",
       "</style>\n",
       "<table border=\"1\" class=\"dataframe\">\n",
       "  <thead>\n",
       "    <tr style=\"text-align: right;\">\n",
       "      <th></th>\n",
       "      <th>0</th>\n",
       "      <th>1</th>\n",
       "    </tr>\n",
       "  </thead>\n",
       "  <tbody>\n",
       "    <tr>\n",
       "      <th>0</th>\n",
       "      <td>gun</td>\n",
       "      <td>30</td>\n",
       "    </tr>\n",
       "    <tr>\n",
       "      <th>1</th>\n",
       "      <td>bullet</td>\n",
       "      <td>2</td>\n",
       "    </tr>\n",
       "    <tr>\n",
       "      <th>2</th>\n",
       "      <td>riffle</td>\n",
       "      <td>40</td>\n",
       "    </tr>\n",
       "  </tbody>\n",
       "</table>\n",
       "</div>"
      ],
      "text/plain": [
       "        0   1\n",
       "0     gun  30\n",
       "1  bullet   2\n",
       "2  riffle  40"
      ]
     },
     "execution_count": 16,
     "metadata": {},
     "output_type": "execute_result"
    }
   ],
   "source": [
    "li = [['gun', 30], ['bullet', 2], ['riffle', 40]]\n",
    "pd.DataFrame(li)"
   ]
  },
  {
   "cell_type": "code",
   "execution_count": 19,
   "id": "f27be2cd-aa99-4580-a4d7-4166d9a89eff",
   "metadata": {},
   "outputs": [
    {
     "data": {
      "text/html": [
       "<div>\n",
       "<style scoped>\n",
       "    .dataframe tbody tr th:only-of-type {\n",
       "        vertical-align: middle;\n",
       "    }\n",
       "\n",
       "    .dataframe tbody tr th {\n",
       "        vertical-align: top;\n",
       "    }\n",
       "\n",
       "    .dataframe thead th {\n",
       "        text-align: right;\n",
       "    }\n",
       "</style>\n",
       "<table border=\"1\" class=\"dataframe\">\n",
       "  <thead>\n",
       "    <tr style=\"text-align: right;\">\n",
       "      <th></th>\n",
       "      <th>1</th>\n",
       "      <th>2</th>\n",
       "      <th>3</th>\n",
       "      <th>4</th>\n",
       "    </tr>\n",
       "  </thead>\n",
       "  <tbody>\n",
       "    <tr>\n",
       "      <th>one</th>\n",
       "      <td>a</td>\n",
       "      <td>b</td>\n",
       "      <td>c</td>\n",
       "      <td>d</td>\n",
       "    </tr>\n",
       "    <tr>\n",
       "      <th>two</th>\n",
       "      <td>f</td>\n",
       "      <td>g</td>\n",
       "      <td>h</td>\n",
       "      <td>i</td>\n",
       "    </tr>\n",
       "  </tbody>\n",
       "</table>\n",
       "</div>"
      ],
      "text/plain": [
       "     1  2  3  4\n",
       "one  a  b  c  d\n",
       "two  f  g  h  i"
      ]
     },
     "execution_count": 19,
     "metadata": {},
     "output_type": "execute_result"
    }
   ],
   "source": [
    "pd.DataFrame([{1:'a', 2:'b', 3:'c', 4:'d'}, {1:'f', 2:'g',3:'h', 4:'i'}], index=['one','two'])"
   ]
  },
  {
   "cell_type": "code",
   "execution_count": 12,
   "id": "47267025-199d-4c0f-b2cb-425d4633972f",
   "metadata": {},
   "outputs": [
    {
     "data": {
      "text/html": [
       "<div>\n",
       "<style scoped>\n",
       "    .dataframe tbody tr th:only-of-type {\n",
       "        vertical-align: middle;\n",
       "    }\n",
       "\n",
       "    .dataframe tbody tr th {\n",
       "        vertical-align: top;\n",
       "    }\n",
       "\n",
       "    .dataframe thead th {\n",
       "        text-align: right;\n",
       "    }\n",
       "</style>\n",
       "<table border=\"1\" class=\"dataframe\">\n",
       "  <thead>\n",
       "    <tr style=\"text-align: right;\">\n",
       "      <th></th>\n",
       "      <th>Name</th>\n",
       "      <th>Age</th>\n",
       "    </tr>\n",
       "  </thead>\n",
       "  <tbody>\n",
       "    <tr>\n",
       "      <th>0</th>\n",
       "      <td>Tom</td>\n",
       "      <td>20</td>\n",
       "    </tr>\n",
       "    <tr>\n",
       "      <th>1</th>\n",
       "      <td>nick</td>\n",
       "      <td>21</td>\n",
       "    </tr>\n",
       "    <tr>\n",
       "      <th>2</th>\n",
       "      <td>krish</td>\n",
       "      <td>19</td>\n",
       "    </tr>\n",
       "    <tr>\n",
       "      <th>3</th>\n",
       "      <td>jack</td>\n",
       "      <td>18</td>\n",
       "    </tr>\n",
       "  </tbody>\n",
       "</table>\n",
       "</div>"
      ],
      "text/plain": [
       "    Name  Age\n",
       "0    Tom   20\n",
       "1   nick   21\n",
       "2  krish   19\n",
       "3   jack   18"
      ]
     },
     "execution_count": 12,
     "metadata": {},
     "output_type": "execute_result"
    }
   ],
   "source": [
    "data = {'Name':['Tom', 'nick', 'krish', 'jack'], 'Age':[20, 21, 19, 18]}\n",
    "pd.DataFrame(data)"
   ]
  },
  {
   "cell_type": "code",
   "execution_count": 24,
   "id": "b596cd15-7789-4da3-a72d-311b71891cf7",
   "metadata": {},
   "outputs": [
    {
     "data": {
      "text/html": [
       "<div>\n",
       "<style scoped>\n",
       "    .dataframe tbody tr th:only-of-type {\n",
       "        vertical-align: middle;\n",
       "    }\n",
       "\n",
       "    .dataframe tbody tr th {\n",
       "        vertical-align: top;\n",
       "    }\n",
       "\n",
       "    .dataframe thead th {\n",
       "        text-align: right;\n",
       "    }\n",
       "</style>\n",
       "<table border=\"1\" class=\"dataframe\">\n",
       "  <thead>\n",
       "    <tr style=\"text-align: right;\">\n",
       "      <th></th>\n",
       "      <th>Name</th>\n",
       "      <th>Age</th>\n",
       "    </tr>\n",
       "  </thead>\n",
       "  <tbody>\n",
       "    <tr>\n",
       "      <th>1</th>\n",
       "      <td>[Tom, mnr]</td>\n",
       "      <td>20.0</td>\n",
       "    </tr>\n",
       "    <tr>\n",
       "      <th>2</th>\n",
       "      <td>nick</td>\n",
       "      <td>NaN</td>\n",
       "    </tr>\n",
       "    <tr>\n",
       "      <th>3</th>\n",
       "      <td>krish</td>\n",
       "      <td>NaN</td>\n",
       "    </tr>\n",
       "    <tr>\n",
       "      <th>4</th>\n",
       "      <td>jack</td>\n",
       "      <td>NaN</td>\n",
       "    </tr>\n",
       "    <tr>\n",
       "      <th>b</th>\n",
       "      <td>NaN</td>\n",
       "      <td>21.0</td>\n",
       "    </tr>\n",
       "    <tr>\n",
       "      <th>c</th>\n",
       "      <td>NaN</td>\n",
       "      <td>19.0</td>\n",
       "    </tr>\n",
       "    <tr>\n",
       "      <th>d</th>\n",
       "      <td>NaN</td>\n",
       "      <td>18.0</td>\n",
       "    </tr>\n",
       "  </tbody>\n",
       "</table>\n",
       "</div>"
      ],
      "text/plain": [
       "         Name   Age\n",
       "1  [Tom, mnr]  20.0\n",
       "2        nick   NaN\n",
       "3       krish   NaN\n",
       "4        jack   NaN\n",
       "b         NaN  21.0\n",
       "c         NaN  19.0\n",
       "d         NaN  18.0"
      ]
     },
     "execution_count": 24,
     "metadata": {},
     "output_type": "execute_result"
    }
   ],
   "source": [
    "# d = {'a': 'A', 'b': 'B'}\n",
    "# pd.DataFrame(d, index = [1])\n",
    "d = {'Name':{1: ['Tom', 'mnr'], 2: 'nick', 3: 'krish', 4: 'jack'}, 'Age':{1: 20, 'b': 21, 'c': 19, 'd': 18}}\n",
    "pd.DataFrame(d)"
   ]
  },
  {
   "cell_type": "code",
   "execution_count": null,
   "id": "a724d496-782b-46a2-988a-b17fee303268",
   "metadata": {},
   "outputs": [],
   "source": [
    "data = {'one'   : pd.Series([1, 2, 3, 4]),\n",
    "        'two'   : pd.Series([10, 20, 30, 40]),\n",
    "        'three' : pd.Series([100, 200, 300, 400]),\n",
    "        'four'  : pd.Series([1000, 2000, 3000, 4000])}\n",
    "\n",
    "df = pd.DataFrame(data)\n",
    "df"
   ]
  },
  {
   "cell_type": "code",
   "execution_count": null,
   "id": "f7609c94-ec51-4c9a-9899-56dbff46e021",
   "metadata": {},
   "outputs": [],
   "source": [
    "tuples = [('apple', 10), ('banana', 20), ('cherry', 30), ('date', 40), ('elderberry', 50)]\n",
    "df = pd.DataFrame(tuples, columns=['Fruit', 'Quantity'])\n",
    "df.set_index('Fruit')"
   ]
  },
  {
   "cell_type": "markdown",
   "id": "7177706b-bc62-4ada-a916-06b11163308a",
   "metadata": {},
   "source": [
    "### Slicing in DataFrame using `iloc` and `loc`"
   ]
  },
  {
   "cell_type": "code",
   "execution_count": 6,
   "id": "c5f09d74-3b42-4118-8137-b6131acdcc31",
   "metadata": {},
   "outputs": [
    {
     "data": {
      "text/html": [
       "<div>\n",
       "<style scoped>\n",
       "    .dataframe tbody tr th:only-of-type {\n",
       "        vertical-align: middle;\n",
       "    }\n",
       "\n",
       "    .dataframe tbody tr th {\n",
       "        vertical-align: top;\n",
       "    }\n",
       "\n",
       "    .dataframe thead th {\n",
       "        text-align: right;\n",
       "    }\n",
       "</style>\n",
       "<table border=\"1\" class=\"dataframe\">\n",
       "  <thead>\n",
       "    <tr style=\"text-align: right;\">\n",
       "      <th></th>\n",
       "      <th>max_speed</th>\n",
       "      <th>shield</th>\n",
       "      <th>war</th>\n",
       "    </tr>\n",
       "  </thead>\n",
       "  <tbody>\n",
       "    <tr>\n",
       "      <th>cobra</th>\n",
       "      <td>1</td>\n",
       "      <td>2</td>\n",
       "      <td>3</td>\n",
       "    </tr>\n",
       "    <tr>\n",
       "      <th>viper</th>\n",
       "      <td>4</td>\n",
       "      <td>5</td>\n",
       "      <td>6</td>\n",
       "    </tr>\n",
       "    <tr>\n",
       "      <th>sidewinder</th>\n",
       "      <td>7</td>\n",
       "      <td>8</td>\n",
       "      <td>9</td>\n",
       "    </tr>\n",
       "  </tbody>\n",
       "</table>\n",
       "</div>"
      ],
      "text/plain": [
       "            max_speed  shield  war\n",
       "cobra               1       2    3\n",
       "viper               4       5    6\n",
       "sidewinder          7       8    9"
      ]
     },
     "execution_count": 6,
     "metadata": {},
     "output_type": "execute_result"
    }
   ],
   "source": [
    "df = pd.DataFrame([[1, 2, 3], [4, 5, 6], [7, 8, 9]],\n",
    "                  index=['cobra', 'viper', 'sidewinder'],\n",
    "                  columns=['max_speed', 'shield', 'war'])\n",
    "df"
   ]
  },
  {
   "cell_type": "markdown",
   "id": "cc51ebb0-43ee-4e5d-94f4-a4702ccc5cd5",
   "metadata": {},
   "source": [
    "#### `loc` operations"
   ]
  },
  {
   "cell_type": "code",
   "execution_count": 16,
   "id": "c2778251-2318-4a79-a6b8-d15aab29ae89",
   "metadata": {},
   "outputs": [
    {
     "name": "stdout",
     "output_type": "stream",
     "text": [
      "type: <class 'pandas.core.series.Series'>\n"
     ]
    },
    {
     "data": {
      "text/plain": [
       "max_speed    4\n",
       "shield       5\n",
       "war          6\n",
       "Name: viper, dtype: int64"
      ]
     },
     "execution_count": 16,
     "metadata": {},
     "output_type": "execute_result"
    }
   ],
   "source": [
    "print(f'type: {type(df.loc['viper'])}')\n",
    "df.loc['viper']"
   ]
  },
  {
   "cell_type": "code",
   "execution_count": 7,
   "id": "3efd6687-69fb-499d-8147-8c0497d720e0",
   "metadata": {},
   "outputs": [
    {
     "data": {
      "text/html": [
       "<div>\n",
       "<style scoped>\n",
       "    .dataframe tbody tr th:only-of-type {\n",
       "        vertical-align: middle;\n",
       "    }\n",
       "\n",
       "    .dataframe tbody tr th {\n",
       "        vertical-align: top;\n",
       "    }\n",
       "\n",
       "    .dataframe thead th {\n",
       "        text-align: right;\n",
       "    }\n",
       "</style>\n",
       "<table border=\"1\" class=\"dataframe\">\n",
       "  <thead>\n",
       "    <tr style=\"text-align: right;\">\n",
       "      <th></th>\n",
       "      <th>max_speed</th>\n",
       "      <th>shield</th>\n",
       "      <th>war</th>\n",
       "    </tr>\n",
       "  </thead>\n",
       "  <tbody>\n",
       "    <tr>\n",
       "      <th>viper</th>\n",
       "      <td>4</td>\n",
       "      <td>5</td>\n",
       "      <td>6</td>\n",
       "    </tr>\n",
       "    <tr>\n",
       "      <th>cobra</th>\n",
       "      <td>1</td>\n",
       "      <td>2</td>\n",
       "      <td>3</td>\n",
       "    </tr>\n",
       "  </tbody>\n",
       "</table>\n",
       "</div>"
      ],
      "text/plain": [
       "       max_speed  shield  war\n",
       "viper          4       5    6\n",
       "cobra          1       2    3"
      ]
     },
     "execution_count": 7,
     "metadata": {},
     "output_type": "execute_result"
    }
   ],
   "source": [
    "df.loc[['viper', 'cobra']]"
   ]
  },
  {
   "cell_type": "code",
   "execution_count": 18,
   "id": "e91ad3a2-d533-47c2-8b45-508ecf3dc413",
   "metadata": {},
   "outputs": [
    {
     "data": {
      "text/plain": [
       "np.int64(4)"
      ]
     },
     "execution_count": 18,
     "metadata": {},
     "output_type": "execute_result"
    }
   ],
   "source": [
    "df.loc['viper', 'max_speed']"
   ]
  },
  {
   "cell_type": "code",
   "execution_count": 14,
   "id": "0e845691-b8d4-4aea-83e4-5b33ca867200",
   "metadata": {},
   "outputs": [
    {
     "data": {
      "text/plain": [
       "cobra    1\n",
       "viper    4\n",
       "Name: max_speed, dtype: int64"
      ]
     },
     "execution_count": 14,
     "metadata": {},
     "output_type": "execute_result"
    }
   ],
   "source": [
    "df.loc['cobra':'viper', 'max_speed']"
   ]
  },
  {
   "cell_type": "code",
   "execution_count": 20,
   "id": "45606169-eefd-4518-a505-8278c804c5c5",
   "metadata": {},
   "outputs": [
    {
     "data": {
      "text/html": [
       "<div>\n",
       "<style scoped>\n",
       "    .dataframe tbody tr th:only-of-type {\n",
       "        vertical-align: middle;\n",
       "    }\n",
       "\n",
       "    .dataframe tbody tr th {\n",
       "        vertical-align: top;\n",
       "    }\n",
       "\n",
       "    .dataframe thead th {\n",
       "        text-align: right;\n",
       "    }\n",
       "</style>\n",
       "<table border=\"1\" class=\"dataframe\">\n",
       "  <thead>\n",
       "    <tr style=\"text-align: right;\">\n",
       "      <th></th>\n",
       "      <th>shield</th>\n",
       "      <th>war</th>\n",
       "    </tr>\n",
       "  </thead>\n",
       "  <tbody>\n",
       "    <tr>\n",
       "      <th>cobra</th>\n",
       "      <td>2</td>\n",
       "      <td>3</td>\n",
       "    </tr>\n",
       "    <tr>\n",
       "      <th>viper</th>\n",
       "      <td>5</td>\n",
       "      <td>6</td>\n",
       "    </tr>\n",
       "  </tbody>\n",
       "</table>\n",
       "</div>"
      ],
      "text/plain": [
       "       shield  war\n",
       "cobra       2    3\n",
       "viper       5    6"
      ]
     },
     "execution_count": 20,
     "metadata": {},
     "output_type": "execute_result"
    }
   ],
   "source": [
    "# df.loc[['cobra', 'viper'] , ['max_speed', 'shield']]\n",
    "df.loc['cobra':'viper', 'shield':'war']"
   ]
  },
  {
   "cell_type": "code",
   "execution_count": 10,
   "id": "fe960af9-5491-40b4-a6b0-87dbaf6e8c3f",
   "metadata": {},
   "outputs": [
    {
     "data": {
      "text/html": [
       "<div>\n",
       "<style scoped>\n",
       "    .dataframe tbody tr th:only-of-type {\n",
       "        vertical-align: middle;\n",
       "    }\n",
       "\n",
       "    .dataframe tbody tr th {\n",
       "        vertical-align: top;\n",
       "    }\n",
       "\n",
       "    .dataframe thead th {\n",
       "        text-align: right;\n",
       "    }\n",
       "</style>\n",
       "<table border=\"1\" class=\"dataframe\">\n",
       "  <thead>\n",
       "    <tr style=\"text-align: right;\">\n",
       "      <th></th>\n",
       "      <th>max_speed</th>\n",
       "      <th>shield</th>\n",
       "      <th>war</th>\n",
       "    </tr>\n",
       "  </thead>\n",
       "  <tbody>\n",
       "    <tr>\n",
       "      <th>viper</th>\n",
       "      <td>4</td>\n",
       "      <td>5</td>\n",
       "      <td>6</td>\n",
       "    </tr>\n",
       "  </tbody>\n",
       "</table>\n",
       "</div>"
      ],
      "text/plain": [
       "       max_speed  shield  war\n",
       "viper          4       5    6"
      ]
     },
     "execution_count": 10,
     "metadata": {},
     "output_type": "execute_result"
    }
   ],
   "source": [
    "df.loc[[False, True, False]]          # The length of boolean list is must be equal to number of rows\n",
    "# df.loc[[False, True, False], [False, True, False]]"
   ]
  },
  {
   "cell_type": "code",
   "execution_count": 28,
   "id": "11ecc277-6b29-46e9-8e58-12fba225f72b",
   "metadata": {},
   "outputs": [
    {
     "data": {
      "text/html": [
       "<div>\n",
       "<style scoped>\n",
       "    .dataframe tbody tr th:only-of-type {\n",
       "        vertical-align: middle;\n",
       "    }\n",
       "\n",
       "    .dataframe tbody tr th {\n",
       "        vertical-align: top;\n",
       "    }\n",
       "\n",
       "    .dataframe thead th {\n",
       "        text-align: right;\n",
       "    }\n",
       "</style>\n",
       "<table border=\"1\" class=\"dataframe\">\n",
       "  <thead>\n",
       "    <tr style=\"text-align: right;\">\n",
       "      <th></th>\n",
       "      <th>max_speed</th>\n",
       "      <th>shield</th>\n",
       "      <th>war</th>\n",
       "    </tr>\n",
       "  </thead>\n",
       "  <tbody>\n",
       "    <tr>\n",
       "      <th>sidewinder</th>\n",
       "      <td>7</td>\n",
       "      <td>8</td>\n",
       "      <td>9</td>\n",
       "    </tr>\n",
       "  </tbody>\n",
       "</table>\n",
       "</div>"
      ],
      "text/plain": [
       "            max_speed  shield  war\n",
       "sidewinder          7       8    9"
      ]
     },
     "execution_count": 28,
     "metadata": {},
     "output_type": "execute_result"
    }
   ],
   "source": [
    "df.loc[pd.Series([False, False, True], index=['cobra', 'viper', 'sidewinder'])]          #Alignable boolean Series"
   ]
  },
  {
   "cell_type": "code",
   "execution_count": 30,
   "id": "923e5007-f0c6-4526-b283-d2170414b980",
   "metadata": {},
   "outputs": [
    {
     "data": {
      "text/html": [
       "<div>\n",
       "<style scoped>\n",
       "    .dataframe tbody tr th:only-of-type {\n",
       "        vertical-align: middle;\n",
       "    }\n",
       "\n",
       "    .dataframe tbody tr th {\n",
       "        vertical-align: top;\n",
       "    }\n",
       "\n",
       "    .dataframe thead th {\n",
       "        text-align: right;\n",
       "    }\n",
       "</style>\n",
       "<table border=\"1\" class=\"dataframe\">\n",
       "  <thead>\n",
       "    <tr style=\"text-align: right;\">\n",
       "      <th></th>\n",
       "      <th>max_speed</th>\n",
       "      <th>shield</th>\n",
       "      <th>war</th>\n",
       "    </tr>\n",
       "  </thead>\n",
       "  <tbody>\n",
       "    <tr>\n",
       "      <th>viper</th>\n",
       "      <td>4</td>\n",
       "      <td>5</td>\n",
       "      <td>6</td>\n",
       "    </tr>\n",
       "    <tr>\n",
       "      <th>sidewinder</th>\n",
       "      <td>7</td>\n",
       "      <td>8</td>\n",
       "      <td>9</td>\n",
       "    </tr>\n",
       "  </tbody>\n",
       "</table>\n",
       "</div>"
      ],
      "text/plain": [
       "            max_speed  shield  war\n",
       "viper               4       5    6\n",
       "sidewinder          7       8    9"
      ]
     },
     "execution_count": 30,
     "metadata": {},
     "output_type": "execute_result"
    }
   ],
   "source": [
    "df.loc[df['shield'] > 4]"
   ]
  },
  {
   "cell_type": "code",
   "execution_count": 36,
   "id": "ad2341d4-a61d-43de-aa3a-ca14bdd7299c",
   "metadata": {},
   "outputs": [
    {
     "data": {
      "text/html": [
       "<div>\n",
       "<style scoped>\n",
       "    .dataframe tbody tr th:only-of-type {\n",
       "        vertical-align: middle;\n",
       "    }\n",
       "\n",
       "    .dataframe tbody tr th {\n",
       "        vertical-align: top;\n",
       "    }\n",
       "\n",
       "    .dataframe thead th {\n",
       "        text-align: right;\n",
       "    }\n",
       "</style>\n",
       "<table border=\"1\" class=\"dataframe\">\n",
       "  <thead>\n",
       "    <tr style=\"text-align: right;\">\n",
       "      <th></th>\n",
       "      <th>shield</th>\n",
       "      <th>war</th>\n",
       "    </tr>\n",
       "  </thead>\n",
       "  <tbody>\n",
       "    <tr>\n",
       "      <th>viper</th>\n",
       "      <td>5</td>\n",
       "      <td>6</td>\n",
       "    </tr>\n",
       "    <tr>\n",
       "      <th>sidewinder</th>\n",
       "      <td>8</td>\n",
       "      <td>9</td>\n",
       "    </tr>\n",
       "  </tbody>\n",
       "</table>\n",
       "</div>"
      ],
      "text/plain": [
       "            shield  war\n",
       "viper            5    6\n",
       "sidewinder       8    9"
      ]
     },
     "execution_count": 36,
     "metadata": {},
     "output_type": "execute_result"
    }
   ],
   "source": [
    "df.loc[df['shield'] > 4, ['shield', 'war']]"
   ]
  },
  {
   "cell_type": "code",
   "execution_count": 38,
   "id": "7370da3a-bea7-45b4-b2e8-47c25868fcb9",
   "metadata": {},
   "outputs": [
    {
     "data": {
      "text/html": [
       "<div>\n",
       "<style scoped>\n",
       "    .dataframe tbody tr th:only-of-type {\n",
       "        vertical-align: middle;\n",
       "    }\n",
       "\n",
       "    .dataframe tbody tr th {\n",
       "        vertical-align: top;\n",
       "    }\n",
       "\n",
       "    .dataframe thead th {\n",
       "        text-align: right;\n",
       "    }\n",
       "</style>\n",
       "<table border=\"1\" class=\"dataframe\">\n",
       "  <thead>\n",
       "    <tr style=\"text-align: right;\">\n",
       "      <th></th>\n",
       "      <th>max_speed</th>\n",
       "      <th>shield</th>\n",
       "      <th>war</th>\n",
       "    </tr>\n",
       "  </thead>\n",
       "  <tbody>\n",
       "    <tr>\n",
       "      <th>sidewinder</th>\n",
       "      <td>7</td>\n",
       "      <td>8</td>\n",
       "      <td>9</td>\n",
       "    </tr>\n",
       "  </tbody>\n",
       "</table>\n",
       "</div>"
      ],
      "text/plain": [
       "            max_speed  shield  war\n",
       "sidewinder          7       8    9"
      ]
     },
     "execution_count": 38,
     "metadata": {},
     "output_type": "execute_result"
    }
   ],
   "source": [
    "df.loc[lambda df: df['shield'] == 8]"
   ]
  },
  {
   "cell_type": "markdown",
   "id": "4a911d77-301b-4059-abad-81f002d19810",
   "metadata": {},
   "source": [
    "Set value for all items matching the list of labels"
   ]
  },
  {
   "cell_type": "code",
   "execution_count": 40,
   "id": "8ca77b03-7fb4-46e3-9d66-4cac00b4e955",
   "metadata": {},
   "outputs": [
    {
     "data": {
      "text/html": [
       "<div>\n",
       "<style scoped>\n",
       "    .dataframe tbody tr th:only-of-type {\n",
       "        vertical-align: middle;\n",
       "    }\n",
       "\n",
       "    .dataframe tbody tr th {\n",
       "        vertical-align: top;\n",
       "    }\n",
       "\n",
       "    .dataframe thead th {\n",
       "        text-align: right;\n",
       "    }\n",
       "</style>\n",
       "<table border=\"1\" class=\"dataframe\">\n",
       "  <thead>\n",
       "    <tr style=\"text-align: right;\">\n",
       "      <th></th>\n",
       "      <th>max_speed</th>\n",
       "      <th>shield</th>\n",
       "      <th>war</th>\n",
       "    </tr>\n",
       "  </thead>\n",
       "  <tbody>\n",
       "    <tr>\n",
       "      <th>cobra</th>\n",
       "      <td>1</td>\n",
       "      <td>2</td>\n",
       "      <td>23</td>\n",
       "    </tr>\n",
       "    <tr>\n",
       "      <th>viper</th>\n",
       "      <td>4</td>\n",
       "      <td>5</td>\n",
       "      <td>23</td>\n",
       "    </tr>\n",
       "    <tr>\n",
       "      <th>sidewinder</th>\n",
       "      <td>7</td>\n",
       "      <td>8</td>\n",
       "      <td>9</td>\n",
       "    </tr>\n",
       "  </tbody>\n",
       "</table>\n",
       "</div>"
      ],
      "text/plain": [
       "            max_speed  shield  war\n",
       "cobra               1       2   23\n",
       "viper               4       5   23\n",
       "sidewinder          7       8    9"
      ]
     },
     "execution_count": 40,
     "metadata": {},
     "output_type": "execute_result"
    }
   ],
   "source": [
    "df.loc[['cobra', 'viper'], ['war']] = 23\n",
    "df"
   ]
  },
  {
   "cell_type": "markdown",
   "id": "010bdb69-7a80-4689-8657-a86cdcfc1e00",
   "metadata": {},
   "source": [
    "set value for an entire row"
   ]
  },
  {
   "cell_type": "code",
   "execution_count": 42,
   "id": "8bc7835b-5eeb-4c1e-b9f6-9e0e7478518f",
   "metadata": {},
   "outputs": [
    {
     "data": {
      "text/html": [
       "<div>\n",
       "<style scoped>\n",
       "    .dataframe tbody tr th:only-of-type {\n",
       "        vertical-align: middle;\n",
       "    }\n",
       "\n",
       "    .dataframe tbody tr th {\n",
       "        vertical-align: top;\n",
       "    }\n",
       "\n",
       "    .dataframe thead th {\n",
       "        text-align: right;\n",
       "    }\n",
       "</style>\n",
       "<table border=\"1\" class=\"dataframe\">\n",
       "  <thead>\n",
       "    <tr style=\"text-align: right;\">\n",
       "      <th></th>\n",
       "      <th>max_speed</th>\n",
       "      <th>shield</th>\n",
       "      <th>war</th>\n",
       "    </tr>\n",
       "  </thead>\n",
       "  <tbody>\n",
       "    <tr>\n",
       "      <th>cobra</th>\n",
       "      <td>1</td>\n",
       "      <td>2</td>\n",
       "      <td>23</td>\n",
       "    </tr>\n",
       "    <tr>\n",
       "      <th>viper</th>\n",
       "      <td>4</td>\n",
       "      <td>5</td>\n",
       "      <td>23</td>\n",
       "    </tr>\n",
       "    <tr>\n",
       "      <th>sidewinder</th>\n",
       "      <td>100</td>\n",
       "      <td>100</td>\n",
       "      <td>100</td>\n",
       "    </tr>\n",
       "  </tbody>\n",
       "</table>\n",
       "</div>"
      ],
      "text/plain": [
       "            max_speed  shield  war\n",
       "cobra               1       2   23\n",
       "viper               4       5   23\n",
       "sidewinder        100     100  100"
      ]
     },
     "execution_count": 42,
     "metadata": {},
     "output_type": "execute_result"
    }
   ],
   "source": [
    "df.loc['sidewinder'] = 100\n",
    "df"
   ]
  },
  {
   "cell_type": "markdown",
   "id": "453ff763-7195-4737-87c6-dcc594edc190",
   "metadata": {},
   "source": [
    "set value for an entire column"
   ]
  },
  {
   "cell_type": "code",
   "execution_count": 43,
   "id": "942c8aec-1f89-45db-9060-79a6389bc33f",
   "metadata": {},
   "outputs": [
    {
     "data": {
      "text/html": [
       "<div>\n",
       "<style scoped>\n",
       "    .dataframe tbody tr th:only-of-type {\n",
       "        vertical-align: middle;\n",
       "    }\n",
       "\n",
       "    .dataframe tbody tr th {\n",
       "        vertical-align: top;\n",
       "    }\n",
       "\n",
       "    .dataframe thead th {\n",
       "        text-align: right;\n",
       "    }\n",
       "</style>\n",
       "<table border=\"1\" class=\"dataframe\">\n",
       "  <thead>\n",
       "    <tr style=\"text-align: right;\">\n",
       "      <th></th>\n",
       "      <th>max_speed</th>\n",
       "      <th>shield</th>\n",
       "      <th>war</th>\n",
       "    </tr>\n",
       "  </thead>\n",
       "  <tbody>\n",
       "    <tr>\n",
       "      <th>cobra</th>\n",
       "      <td>40</td>\n",
       "      <td>2</td>\n",
       "      <td>23</td>\n",
       "    </tr>\n",
       "    <tr>\n",
       "      <th>viper</th>\n",
       "      <td>40</td>\n",
       "      <td>5</td>\n",
       "      <td>23</td>\n",
       "    </tr>\n",
       "    <tr>\n",
       "      <th>sidewinder</th>\n",
       "      <td>40</td>\n",
       "      <td>100</td>\n",
       "      <td>100</td>\n",
       "    </tr>\n",
       "  </tbody>\n",
       "</table>\n",
       "</div>"
      ],
      "text/plain": [
       "            max_speed  shield  war\n",
       "cobra              40       2   23\n",
       "viper              40       5   23\n",
       "sidewinder         40     100  100"
      ]
     },
     "execution_count": 43,
     "metadata": {},
     "output_type": "execute_result"
    }
   ],
   "source": [
    "df.loc[:, 'max_speed'] = 40\n",
    "df"
   ]
  },
  {
   "cell_type": "code",
   "execution_count": 11,
   "id": "60db055d-a1b4-4e4c-9a0b-5c4aa1f15b76",
   "metadata": {},
   "outputs": [
    {
     "data": {
      "text/html": [
       "<div>\n",
       "<style scoped>\n",
       "    .dataframe tbody tr th:only-of-type {\n",
       "        vertical-align: middle;\n",
       "    }\n",
       "\n",
       "    .dataframe tbody tr th {\n",
       "        vertical-align: top;\n",
       "    }\n",
       "\n",
       "    .dataframe thead th {\n",
       "        text-align: right;\n",
       "    }\n",
       "</style>\n",
       "<table border=\"1\" class=\"dataframe\">\n",
       "  <thead>\n",
       "    <tr style=\"text-align: right;\">\n",
       "      <th></th>\n",
       "      <th></th>\n",
       "      <th>max_speed</th>\n",
       "      <th>shield</th>\n",
       "    </tr>\n",
       "  </thead>\n",
       "  <tbody>\n",
       "    <tr>\n",
       "      <th rowspan=\"2\" valign=\"top\">cobra</th>\n",
       "      <th>mark i</th>\n",
       "      <td>12</td>\n",
       "      <td>2</td>\n",
       "    </tr>\n",
       "    <tr>\n",
       "      <th>mark ii</th>\n",
       "      <td>0</td>\n",
       "      <td>4</td>\n",
       "    </tr>\n",
       "    <tr>\n",
       "      <th rowspan=\"2\" valign=\"top\">sidewinder</th>\n",
       "      <th>mark i</th>\n",
       "      <td>10</td>\n",
       "      <td>20</td>\n",
       "    </tr>\n",
       "    <tr>\n",
       "      <th>mark ii</th>\n",
       "      <td>1</td>\n",
       "      <td>4</td>\n",
       "    </tr>\n",
       "    <tr>\n",
       "      <th rowspan=\"2\" valign=\"top\">viper</th>\n",
       "      <th>mark ii</th>\n",
       "      <td>7</td>\n",
       "      <td>1</td>\n",
       "    </tr>\n",
       "    <tr>\n",
       "      <th>mark iii</th>\n",
       "      <td>16</td>\n",
       "      <td>36</td>\n",
       "    </tr>\n",
       "  </tbody>\n",
       "</table>\n",
       "</div>"
      ],
      "text/plain": [
       "                     max_speed  shield\n",
       "cobra      mark i           12       2\n",
       "           mark ii           0       4\n",
       "sidewinder mark i           10      20\n",
       "           mark ii           1       4\n",
       "viper      mark ii           7       1\n",
       "           mark iii         16      36"
      ]
     },
     "execution_count": 11,
     "metadata": {},
     "output_type": "execute_result"
    }
   ],
   "source": [
    "tuples = [\n",
    "    ('cobra', 'mark i'), ('cobra', 'mark ii'),\n",
    "    ('sidewinder', 'mark i'), ('sidewinder', 'mark ii'),\n",
    "    ('viper', 'mark ii'), ('viper', 'mark iii')\n",
    "]\n",
    "index = pd.MultiIndex.from_tuples(tuples)\n",
    "values = [[12, 2], [0, 4], [10, 20],\n",
    "          [1, 4], [7, 1], [16, 36]]\n",
    "df = pd.DataFrame(values, columns=['max_speed', 'shield'], index=index)\n",
    "df"
   ]
  },
  {
   "cell_type": "markdown",
   "id": "7427c907-dab8-4b32-83e3-bb274d5078e5",
   "metadata": {},
   "source": [
    "#### `iloc` operations"
   ]
  },
  {
   "cell_type": "markdown",
   "id": "33339904-3b71-45b9-933f-bbdb6986681b",
   "metadata": {},
   "source": [
    "> iloc is an index based selecting method which means we have to pass purely integer index to select a specific row/ column"
   ]
  },
  {
   "cell_type": "code",
   "execution_count": 3,
   "id": "47f436e4-6965-46d7-80a0-ee82bc2c4ac5",
   "metadata": {},
   "outputs": [
    {
     "data": {
      "text/html": [
       "<div>\n",
       "<style scoped>\n",
       "    .dataframe tbody tr th:only-of-type {\n",
       "        vertical-align: middle;\n",
       "    }\n",
       "\n",
       "    .dataframe tbody tr th {\n",
       "        vertical-align: top;\n",
       "    }\n",
       "\n",
       "    .dataframe thead th {\n",
       "        text-align: right;\n",
       "    }\n",
       "</style>\n",
       "<table border=\"1\" class=\"dataframe\">\n",
       "  <thead>\n",
       "    <tr style=\"text-align: right;\">\n",
       "      <th></th>\n",
       "      <th>a</th>\n",
       "      <th>b</th>\n",
       "      <th>c</th>\n",
       "      <th>d</th>\n",
       "    </tr>\n",
       "  </thead>\n",
       "  <tbody>\n",
       "    <tr>\n",
       "      <th>0</th>\n",
       "      <td>1</td>\n",
       "      <td>2</td>\n",
       "      <td>3</td>\n",
       "      <td>4</td>\n",
       "    </tr>\n",
       "    <tr>\n",
       "      <th>1</th>\n",
       "      <td>100</td>\n",
       "      <td>200</td>\n",
       "      <td>300</td>\n",
       "      <td>400</td>\n",
       "    </tr>\n",
       "    <tr>\n",
       "      <th>2</th>\n",
       "      <td>1000</td>\n",
       "      <td>2000</td>\n",
       "      <td>3000</td>\n",
       "      <td>4000</td>\n",
       "    </tr>\n",
       "  </tbody>\n",
       "</table>\n",
       "</div>"
      ],
      "text/plain": [
       "      a     b     c     d\n",
       "0     1     2     3     4\n",
       "1   100   200   300   400\n",
       "2  1000  2000  3000  4000"
      ]
     },
     "execution_count": 3,
     "metadata": {},
     "output_type": "execute_result"
    }
   ],
   "source": [
    "mydict = [{'a': 1, 'b': 2, 'c': 3, 'd': 4},\n",
    "          {'a': 100, 'b': 200, 'c': 300, 'd': 400},\n",
    "          {'a': 1000, 'b': 2000, 'c': 3000, 'd': 4000}]\n",
    "df = pd.DataFrame(mydict)\n",
    "df"
   ]
  },
  {
   "cell_type": "code",
   "execution_count": 7,
   "id": "204c31bf-bb41-49b0-ba85-3131c46a4a26",
   "metadata": {},
   "outputs": [
    {
     "data": {
      "text/html": [
       "<div>\n",
       "<style scoped>\n",
       "    .dataframe tbody tr th:only-of-type {\n",
       "        vertical-align: middle;\n",
       "    }\n",
       "\n",
       "    .dataframe tbody tr th {\n",
       "        vertical-align: top;\n",
       "    }\n",
       "\n",
       "    .dataframe thead th {\n",
       "        text-align: right;\n",
       "    }\n",
       "</style>\n",
       "<table border=\"1\" class=\"dataframe\">\n",
       "  <thead>\n",
       "    <tr style=\"text-align: right;\">\n",
       "      <th></th>\n",
       "      <th>a</th>\n",
       "      <th>b</th>\n",
       "      <th>c</th>\n",
       "      <th>d</th>\n",
       "    </tr>\n",
       "  </thead>\n",
       "  <tbody>\n",
       "    <tr>\n",
       "      <th>0</th>\n",
       "      <td>1</td>\n",
       "      <td>2</td>\n",
       "      <td>3</td>\n",
       "      <td>4</td>\n",
       "    </tr>\n",
       "  </tbody>\n",
       "</table>\n",
       "</div>"
      ],
      "text/plain": [
       "   a  b  c  d\n",
       "0  1  2  3  4"
      ]
     },
     "execution_count": 7,
     "metadata": {},
     "output_type": "execute_result"
    }
   ],
   "source": [
    "# df.iloc[0]         --> Series\n",
    "df.iloc[[0]]      # -->DataFrame"
   ]
  },
  {
   "cell_type": "code",
   "execution_count": 18,
   "id": "5f520777-3333-44b2-8205-86e6dd57cd97",
   "metadata": {},
   "outputs": [
    {
     "data": {
      "text/html": [
       "<div>\n",
       "<style scoped>\n",
       "    .dataframe tbody tr th:only-of-type {\n",
       "        vertical-align: middle;\n",
       "    }\n",
       "\n",
       "    .dataframe tbody tr th {\n",
       "        vertical-align: top;\n",
       "    }\n",
       "\n",
       "    .dataframe thead th {\n",
       "        text-align: right;\n",
       "    }\n",
       "</style>\n",
       "<table border=\"1\" class=\"dataframe\">\n",
       "  <thead>\n",
       "    <tr style=\"text-align: right;\">\n",
       "      <th></th>\n",
       "      <th>a</th>\n",
       "      <th>b</th>\n",
       "      <th>d</th>\n",
       "    </tr>\n",
       "  </thead>\n",
       "  <tbody>\n",
       "    <tr>\n",
       "      <th>0</th>\n",
       "      <td>1</td>\n",
       "      <td>2</td>\n",
       "      <td>4</td>\n",
       "    </tr>\n",
       "    <tr>\n",
       "      <th>2</th>\n",
       "      <td>1000</td>\n",
       "      <td>2000</td>\n",
       "      <td>4000</td>\n",
       "    </tr>\n",
       "  </tbody>\n",
       "</table>\n",
       "</div>"
      ],
      "text/plain": [
       "      a     b     d\n",
       "0     1     2     4\n",
       "2  1000  2000  4000"
      ]
     },
     "execution_count": 18,
     "metadata": {},
     "output_type": "execute_result"
    }
   ],
   "source": [
    "# df.iloc[[0,1]]\n",
    "df.iloc[[0,2], [0, 1, 3]]"
   ]
  },
  {
   "cell_type": "code",
   "execution_count": 27,
   "id": "1bfc8193-4b6c-47a9-9304-9ea0df2f7f4d",
   "metadata": {},
   "outputs": [
    {
     "data": {
      "text/html": [
       "<div>\n",
       "<style scoped>\n",
       "    .dataframe tbody tr th:only-of-type {\n",
       "        vertical-align: middle;\n",
       "    }\n",
       "\n",
       "    .dataframe tbody tr th {\n",
       "        vertical-align: top;\n",
       "    }\n",
       "\n",
       "    .dataframe thead th {\n",
       "        text-align: right;\n",
       "    }\n",
       "</style>\n",
       "<table border=\"1\" class=\"dataframe\">\n",
       "  <thead>\n",
       "    <tr style=\"text-align: right;\">\n",
       "      <th></th>\n",
       "      <th>a</th>\n",
       "      <th>b</th>\n",
       "    </tr>\n",
       "  </thead>\n",
       "  <tbody>\n",
       "    <tr>\n",
       "      <th>0</th>\n",
       "      <td>1</td>\n",
       "      <td>2</td>\n",
       "    </tr>\n",
       "    <tr>\n",
       "      <th>1</th>\n",
       "      <td>100</td>\n",
       "      <td>200</td>\n",
       "    </tr>\n",
       "  </tbody>\n",
       "</table>\n",
       "</div>"
      ],
      "text/plain": [
       "     a    b\n",
       "0    1    2\n",
       "1  100  200"
      ]
     },
     "execution_count": 27,
     "metadata": {},
     "output_type": "execute_result"
    }
   ],
   "source": [
    "df.iloc[0:-1, 0:-2]"
   ]
  },
  {
   "cell_type": "code",
   "execution_count": 19,
   "id": "786dede1-60ab-4857-8819-ad105b0e843a",
   "metadata": {},
   "outputs": [
    {
     "data": {
      "text/html": [
       "<div>\n",
       "<style scoped>\n",
       "    .dataframe tbody tr th:only-of-type {\n",
       "        vertical-align: middle;\n",
       "    }\n",
       "\n",
       "    .dataframe tbody tr th {\n",
       "        vertical-align: top;\n",
       "    }\n",
       "\n",
       "    .dataframe thead th {\n",
       "        text-align: right;\n",
       "    }\n",
       "</style>\n",
       "<table border=\"1\" class=\"dataframe\">\n",
       "  <thead>\n",
       "    <tr style=\"text-align: right;\">\n",
       "      <th></th>\n",
       "      <th>a</th>\n",
       "      <th>b</th>\n",
       "      <th>c</th>\n",
       "      <th>d</th>\n",
       "    </tr>\n",
       "  </thead>\n",
       "  <tbody>\n",
       "    <tr>\n",
       "      <th>0</th>\n",
       "      <td>1</td>\n",
       "      <td>2</td>\n",
       "      <td>3</td>\n",
       "      <td>4</td>\n",
       "    </tr>\n",
       "    <tr>\n",
       "      <th>2</th>\n",
       "      <td>1000</td>\n",
       "      <td>2000</td>\n",
       "      <td>3000</td>\n",
       "      <td>4000</td>\n",
       "    </tr>\n",
       "  </tbody>\n",
       "</table>\n",
       "</div>"
      ],
      "text/plain": [
       "      a     b     c     d\n",
       "0     1     2     3     4\n",
       "2  1000  2000  3000  4000"
      ]
     },
     "execution_count": 19,
     "metadata": {},
     "output_type": "execute_result"
    }
   ],
   "source": [
    "df.iloc[[True, False, True]]"
   ]
  },
  {
   "cell_type": "code",
   "execution_count": 26,
   "id": "3155dc26-3736-41db-bcd3-77678447431d",
   "metadata": {},
   "outputs": [
    {
     "data": {
      "text/html": [
       "<div>\n",
       "<style scoped>\n",
       "    .dataframe tbody tr th:only-of-type {\n",
       "        vertical-align: middle;\n",
       "    }\n",
       "\n",
       "    .dataframe tbody tr th {\n",
       "        vertical-align: top;\n",
       "    }\n",
       "\n",
       "    .dataframe thead th {\n",
       "        text-align: right;\n",
       "    }\n",
       "</style>\n",
       "<table border=\"1\" class=\"dataframe\">\n",
       "  <thead>\n",
       "    <tr style=\"text-align: right;\">\n",
       "      <th></th>\n",
       "      <th>a</th>\n",
       "      <th>b</th>\n",
       "      <th>c</th>\n",
       "      <th>d</th>\n",
       "    </tr>\n",
       "  </thead>\n",
       "  <tbody>\n",
       "    <tr>\n",
       "      <th>0</th>\n",
       "      <td>1</td>\n",
       "      <td>2</td>\n",
       "      <td>3</td>\n",
       "      <td>4</td>\n",
       "    </tr>\n",
       "    <tr>\n",
       "      <th>2</th>\n",
       "      <td>1000</td>\n",
       "      <td>2000</td>\n",
       "      <td>3000</td>\n",
       "      <td>4000</td>\n",
       "    </tr>\n",
       "  </tbody>\n",
       "</table>\n",
       "</div>"
      ],
      "text/plain": [
       "      a     b     c     d\n",
       "0     1     2     3     4\n",
       "2  1000  2000  3000  4000"
      ]
     },
     "execution_count": 26,
     "metadata": {},
     "output_type": "execute_result"
    }
   ],
   "source": [
    "# df.iloc[lambda df: [0, 2]]             here the result is same if, iloc <-> loc\n",
    "df.iloc[lambda x: x.index %2 == 0]"
   ]
  },
  {
   "cell_type": "markdown",
   "id": "87bd3177-613f-4238-b5ac-30dfe27ccf33",
   "metadata": {},
   "source": [
    "### Slicing using conditions"
   ]
  },
  {
   "cell_type": "code",
   "execution_count": 32,
   "id": "10c8f579-f960-45e5-a153-d568690a880a",
   "metadata": {},
   "outputs": [
    {
     "data": {
      "text/html": [
       "<div>\n",
       "<style scoped>\n",
       "    .dataframe tbody tr th:only-of-type {\n",
       "        vertical-align: middle;\n",
       "    }\n",
       "\n",
       "    .dataframe tbody tr th {\n",
       "        vertical-align: top;\n",
       "    }\n",
       "\n",
       "    .dataframe thead th {\n",
       "        text-align: right;\n",
       "    }\n",
       "</style>\n",
       "<table border=\"1\" class=\"dataframe\">\n",
       "  <thead>\n",
       "    <tr style=\"text-align: right;\">\n",
       "      <th></th>\n",
       "      <th>one</th>\n",
       "      <th>two</th>\n",
       "      <th>three</th>\n",
       "      <th>four</th>\n",
       "    </tr>\n",
       "  </thead>\n",
       "  <tbody>\n",
       "    <tr>\n",
       "      <th>0</th>\n",
       "      <td>1</td>\n",
       "      <td>10</td>\n",
       "      <td>100</td>\n",
       "      <td>1000</td>\n",
       "    </tr>\n",
       "    <tr>\n",
       "      <th>1</th>\n",
       "      <td>2</td>\n",
       "      <td>20</td>\n",
       "      <td>200</td>\n",
       "      <td>2000</td>\n",
       "    </tr>\n",
       "    <tr>\n",
       "      <th>2</th>\n",
       "      <td>3</td>\n",
       "      <td>30</td>\n",
       "      <td>300</td>\n",
       "      <td>3000</td>\n",
       "    </tr>\n",
       "    <tr>\n",
       "      <th>3</th>\n",
       "      <td>4</td>\n",
       "      <td>40</td>\n",
       "      <td>400</td>\n",
       "      <td>4000</td>\n",
       "    </tr>\n",
       "  </tbody>\n",
       "</table>\n",
       "</div>"
      ],
      "text/plain": [
       "   one  two  three  four\n",
       "0    1   10    100  1000\n",
       "1    2   20    200  2000\n",
       "2    3   30    300  3000\n",
       "3    4   40    400  4000"
      ]
     },
     "execution_count": 32,
     "metadata": {},
     "output_type": "execute_result"
    }
   ],
   "source": [
    "data = {'one'   : pd.Series([1, 2, 3, 4]),\n",
    "        'two'   : pd.Series([10, 20, 30, 40]),\n",
    "        'three' : pd.Series([100, 200, 300, 400]),\n",
    "        'four'  : pd.Series([1000, 2000, 3000, 4000])}\n",
    "\n",
    "df = pd.DataFrame(data)\n",
    "df"
   ]
  },
  {
   "cell_type": "code",
   "execution_count": 39,
   "id": "35fa220f-00ec-4800-8444-3ef613a1924b",
   "metadata": {},
   "outputs": [
    {
     "data": {
      "text/html": [
       "<div>\n",
       "<style scoped>\n",
       "    .dataframe tbody tr th:only-of-type {\n",
       "        vertical-align: middle;\n",
       "    }\n",
       "\n",
       "    .dataframe tbody tr th {\n",
       "        vertical-align: top;\n",
       "    }\n",
       "\n",
       "    .dataframe thead th {\n",
       "        text-align: right;\n",
       "    }\n",
       "</style>\n",
       "<table border=\"1\" class=\"dataframe\">\n",
       "  <thead>\n",
       "    <tr style=\"text-align: right;\">\n",
       "      <th></th>\n",
       "      <th>three</th>\n",
       "      <th>two</th>\n",
       "    </tr>\n",
       "  </thead>\n",
       "  <tbody>\n",
       "    <tr>\n",
       "      <th>2</th>\n",
       "      <td>300</td>\n",
       "      <td>30</td>\n",
       "    </tr>\n",
       "    <tr>\n",
       "      <th>3</th>\n",
       "      <td>400</td>\n",
       "      <td>40</td>\n",
       "    </tr>\n",
       "  </tbody>\n",
       "</table>\n",
       "</div>"
      ],
      "text/plain": [
       "   three  two\n",
       "2    300   30\n",
       "3    400   40"
      ]
     },
     "execution_count": 39,
     "metadata": {},
     "output_type": "execute_result"
    }
   ],
   "source": [
    "df.loc[df['two'] > 20, ['three', 'two']]\n",
    "# df[df['two'] > 20]"
   ]
  },
  {
   "cell_type": "markdown",
   "id": "23d41dff-1a0f-45a9-a632-f5ac2005629b",
   "metadata": {},
   "source": [
    "### Adding Column into DataFrame"
   ]
  },
  {
   "cell_type": "markdown",
   "id": "a1f306fe-a351-4e5d-8ac2-3748ff9cb387",
   "metadata": {},
   "source": [
    "We can add a column in many ways. Let us discuss three ways how we can add column here\n",
    "- Using List\n",
    "- Using Pandas Series\n",
    "- Using an existing Column(we can modify that column in the way we want and that modified part can also be displayed)"
   ]
  },
  {
   "cell_type": "code",
   "execution_count": null,
   "id": "b53e5ee5-a98c-47d9-b21c-2ff99d292949",
   "metadata": {},
   "outputs": [],
   "source": [
    "li = [11, 22, 33, 44]\n",
    "df['five'] = li\n",
    "df"
   ]
  },
  {
   "cell_type": "code",
   "execution_count": null,
   "id": "794a6fc3-baa2-422b-a8ef-83decb5e1140",
   "metadata": {},
   "outputs": [],
   "source": [
    "sr = pd.Series([111, 222,333, 444])\n",
    "df['six'] = sr\n",
    "df"
   ]
  },
  {
   "cell_type": "code",
   "execution_count": null,
   "id": "ff1d355e-e231-4fe7-9d2a-0c72526714fd",
   "metadata": {},
   "outputs": [],
   "source": [
    "df['seven'] = df['one']+10\n",
    "df"
   ]
  },
  {
   "cell_type": "markdown",
   "id": "06a186ad-b7c4-46f3-855c-2426436184ea",
   "metadata": {},
   "source": [
    "### deleting Column in DataFrame"
   ]
  },
  {
   "cell_type": "markdown",
   "id": "5cd307d2-a4e2-45f1-a248-a65b273ab05d",
   "metadata": {},
   "source": [
    "- del\n",
    "- drop\n",
    "- pop"
   ]
  },
  {
   "cell_type": "code",
   "execution_count": null,
   "id": "9dd788aa-60ac-424f-8341-7c6fe57156b2",
   "metadata": {},
   "outputs": [],
   "source": [
    "del df['six']\n",
    "df"
   ]
  },
  {
   "cell_type": "code",
   "execution_count": 50,
   "id": "66dd8b46-04d6-49dc-84c2-af5bebea9830",
   "metadata": {},
   "outputs": [],
   "source": [
    "# df.drop(['seven'], axis=1, inplace=True)\n",
    "# or                                                 axis = 1 -> columns,   axis = 0 -> rows\n",
    "# df.drop(columns=['seven'], inplace=True)"
   ]
  },
  {
   "cell_type": "code",
   "execution_count": 55,
   "id": "eb3ba839-f658-478d-9b07-c36577eb4106",
   "metadata": {},
   "outputs": [],
   "source": [
    "# df.pop('five')"
   ]
  },
  {
   "cell_type": "markdown",
   "id": "83e5447e-14ed-4cf8-8326-6498c8cf1a8c",
   "metadata": {},
   "source": [
    "### Adding row into DataFrame"
   ]
  },
  {
   "cell_type": "code",
   "execution_count": 63,
   "id": "82f47ba7-8c93-4105-80c1-06fe256c2f65",
   "metadata": {},
   "outputs": [
    {
     "data": {
      "text/html": [
       "<div>\n",
       "<style scoped>\n",
       "    .dataframe tbody tr th:only-of-type {\n",
       "        vertical-align: middle;\n",
       "    }\n",
       "\n",
       "    .dataframe tbody tr th {\n",
       "        vertical-align: top;\n",
       "    }\n",
       "\n",
       "    .dataframe thead th {\n",
       "        text-align: right;\n",
       "    }\n",
       "</style>\n",
       "<table border=\"1\" class=\"dataframe\">\n",
       "  <thead>\n",
       "    <tr style=\"text-align: right;\">\n",
       "      <th></th>\n",
       "      <th>Fruit</th>\n",
       "      <th>Quantity</th>\n",
       "    </tr>\n",
       "  </thead>\n",
       "  <tbody>\n",
       "    <tr>\n",
       "      <th>0</th>\n",
       "      <td>apple</td>\n",
       "      <td>10</td>\n",
       "    </tr>\n",
       "    <tr>\n",
       "      <th>1</th>\n",
       "      <td>banana</td>\n",
       "      <td>20</td>\n",
       "    </tr>\n",
       "    <tr>\n",
       "      <th>2</th>\n",
       "      <td>cherry</td>\n",
       "      <td>30</td>\n",
       "    </tr>\n",
       "    <tr>\n",
       "      <th>3</th>\n",
       "      <td>date</td>\n",
       "      <td>40</td>\n",
       "    </tr>\n",
       "  </tbody>\n",
       "</table>\n",
       "</div>"
      ],
      "text/plain": [
       "    Fruit  Quantity\n",
       "0   apple        10\n",
       "1  banana        20\n",
       "2  cherry        30\n",
       "3    date        40"
      ]
     },
     "execution_count": 63,
     "metadata": {},
     "output_type": "execute_result"
    }
   ],
   "source": [
    "data = {'Fruit': ['apple', 'banana', 'cherry'], 'Quantity': [10, 20, 30]}\n",
    "df = pd.DataFrame(data)\n",
    "\n",
    "new_row = {'Fruit': ['date'], 'Quantity': [40]}\n",
    "df_new = pd.DataFrame(new_row)\n",
    "\n",
    "df = pd.concat([df, df_new], ignore_index=True)\n",
    "df\n"
   ]
  },
  {
   "cell_type": "markdown",
   "id": "f58a2a1d-b947-4785-b643-d167a9608ab4",
   "metadata": {},
   "source": [
    "#### Transposing a DataFrame"
   ]
  },
  {
   "cell_type": "markdown",
   "id": "e13d9881-bdac-430c-aca2-5143ded52d72",
   "metadata": {},
   "source": [
    "pandas `DataFrame.T ` instance is used to transpose the DataFrame, i.e., to flip the rows and columns."
   ]
  },
  {
   "cell_type": "code",
   "execution_count": 3,
   "id": "ca3b35fe-ecc7-4466-8445-e9e37a8ec26f",
   "metadata": {},
   "outputs": [
    {
     "data": {
      "text/html": [
       "<div>\n",
       "<style scoped>\n",
       "    .dataframe tbody tr th:only-of-type {\n",
       "        vertical-align: middle;\n",
       "    }\n",
       "\n",
       "    .dataframe tbody tr th {\n",
       "        vertical-align: top;\n",
       "    }\n",
       "\n",
       "    .dataframe thead th {\n",
       "        text-align: right;\n",
       "    }\n",
       "</style>\n",
       "<table border=\"1\" class=\"dataframe\">\n",
       "  <thead>\n",
       "    <tr style=\"text-align: right;\">\n",
       "      <th></th>\n",
       "      <th>one</th>\n",
       "      <th>two</th>\n",
       "      <th>three</th>\n",
       "      <th>four</th>\n",
       "    </tr>\n",
       "  </thead>\n",
       "  <tbody>\n",
       "    <tr>\n",
       "      <th>0</th>\n",
       "      <td>1</td>\n",
       "      <td>10</td>\n",
       "      <td>100</td>\n",
       "      <td>1000</td>\n",
       "    </tr>\n",
       "    <tr>\n",
       "      <th>1</th>\n",
       "      <td>2</td>\n",
       "      <td>20</td>\n",
       "      <td>200</td>\n",
       "      <td>2000</td>\n",
       "    </tr>\n",
       "    <tr>\n",
       "      <th>2</th>\n",
       "      <td>3</td>\n",
       "      <td>30</td>\n",
       "      <td>300</td>\n",
       "      <td>3000</td>\n",
       "    </tr>\n",
       "    <tr>\n",
       "      <th>3</th>\n",
       "      <td>4</td>\n",
       "      <td>40</td>\n",
       "      <td>400</td>\n",
       "      <td>4000</td>\n",
       "    </tr>\n",
       "  </tbody>\n",
       "</table>\n",
       "</div>"
      ],
      "text/plain": [
       "   one  two  three  four\n",
       "0    1   10    100  1000\n",
       "1    2   20    200  2000\n",
       "2    3   30    300  3000\n",
       "3    4   40    400  4000"
      ]
     },
     "execution_count": 3,
     "metadata": {},
     "output_type": "execute_result"
    }
   ],
   "source": [
    "data = {'one'   : pd.Series([1, 2, 3, 4]),\n",
    "        'two'   : pd.Series([10, 20, 30, 40]),\n",
    "        'three' : pd.Series([100, 200, 300, 400]),\n",
    "        'four'  : pd.Series([1000, 2000, 3000, 4000])}\n",
    "df = pd.DataFrame(data)\n",
    "df"
   ]
  },
  {
   "cell_type": "code",
   "execution_count": 4,
   "id": "a3b995db-1eef-41de-9284-ba9a4f00f65f",
   "metadata": {},
   "outputs": [
    {
     "data": {
      "text/html": [
       "<div>\n",
       "<style scoped>\n",
       "    .dataframe tbody tr th:only-of-type {\n",
       "        vertical-align: middle;\n",
       "    }\n",
       "\n",
       "    .dataframe tbody tr th {\n",
       "        vertical-align: top;\n",
       "    }\n",
       "\n",
       "    .dataframe thead th {\n",
       "        text-align: right;\n",
       "    }\n",
       "</style>\n",
       "<table border=\"1\" class=\"dataframe\">\n",
       "  <thead>\n",
       "    <tr style=\"text-align: right;\">\n",
       "      <th></th>\n",
       "      <th>0</th>\n",
       "      <th>1</th>\n",
       "      <th>2</th>\n",
       "      <th>3</th>\n",
       "    </tr>\n",
       "  </thead>\n",
       "  <tbody>\n",
       "    <tr>\n",
       "      <th>one</th>\n",
       "      <td>1</td>\n",
       "      <td>2</td>\n",
       "      <td>3</td>\n",
       "      <td>4</td>\n",
       "    </tr>\n",
       "    <tr>\n",
       "      <th>two</th>\n",
       "      <td>10</td>\n",
       "      <td>20</td>\n",
       "      <td>30</td>\n",
       "      <td>40</td>\n",
       "    </tr>\n",
       "    <tr>\n",
       "      <th>three</th>\n",
       "      <td>100</td>\n",
       "      <td>200</td>\n",
       "      <td>300</td>\n",
       "      <td>400</td>\n",
       "    </tr>\n",
       "    <tr>\n",
       "      <th>four</th>\n",
       "      <td>1000</td>\n",
       "      <td>2000</td>\n",
       "      <td>3000</td>\n",
       "      <td>4000</td>\n",
       "    </tr>\n",
       "  </tbody>\n",
       "</table>\n",
       "</div>"
      ],
      "text/plain": [
       "          0     1     2     3\n",
       "one       1     2     3     4\n",
       "two      10    20    30    40\n",
       "three   100   200   300   400\n",
       "four   1000  2000  3000  4000"
      ]
     },
     "execution_count": 4,
     "metadata": {},
     "output_type": "execute_result"
    }
   ],
   "source": [
    "df.T"
   ]
  },
  {
   "cell_type": "markdown",
   "id": "a2f1b563-052f-4214-a5e3-e989403827e0",
   "metadata": {},
   "source": [
    "### more DataFrame functionalities"
   ]
  },
  {
   "cell_type": "markdown",
   "id": "0f16e010-7738-456a-ac43-ea1ccef45d0f",
   "metadata": {},
   "source": [
    "- axes instance\n",
    "> Return a list representing the axes of the DataFrame."
   ]
  },
  {
   "cell_type": "code",
   "execution_count": 7,
   "id": "1547042e-a352-4b1e-a2bf-c4c8a30be28d",
   "metadata": {},
   "outputs": [
    {
     "name": "stdout",
     "output_type": "stream",
     "text": [
      "[RangeIndex(start=0, stop=4, step=1), Index(['one', 'two', 'three', 'four'], dtype='object')]\n"
     ]
    }
   ],
   "source": [
    "print(df.axes)"
   ]
  },
  {
   "cell_type": "markdown",
   "id": "cc52c521-8220-4798-9772-424c1d9ab352",
   "metadata": {},
   "source": [
    "- ndim\n",
    ">Return an int representing the number of axes / array dimensions. Return 1 if Series. Otherwise return 2 if DataFrame."
   ]
  },
  {
   "cell_type": "code",
   "execution_count": 8,
   "id": "7c0d344d-575f-46f5-9015-b92eb0d229e1",
   "metadata": {},
   "outputs": [
    {
     "data": {
      "text/plain": [
       "2"
      ]
     },
     "execution_count": 8,
     "metadata": {},
     "output_type": "execute_result"
    }
   ],
   "source": [
    "df.ndim"
   ]
  },
  {
   "cell_type": "markdown",
   "id": "c23d982e-56ba-4ed1-8db9-f962754eb35f",
   "metadata": {},
   "source": [
    "- dtypes\n",
    "> This returns a Series with the data type of each column."
   ]
  },
  {
   "cell_type": "code",
   "execution_count": 10,
   "id": "bb1971a5-f41d-40e6-9333-c1e35fa558a2",
   "metadata": {},
   "outputs": [
    {
     "data": {
      "text/plain": [
       "one      int64\n",
       "two      int64\n",
       "three    int64\n",
       "four     int64\n",
       "dtype: object"
      ]
     },
     "execution_count": 10,
     "metadata": {},
     "output_type": "execute_result"
    }
   ],
   "source": [
    "df.dtypes"
   ]
  },
  {
   "cell_type": "markdown",
   "id": "eb4b529c-1543-4e18-8e62-30db0f363e9f",
   "metadata": {},
   "source": [
    "- shape"
   ]
  },
  {
   "cell_type": "code",
   "execution_count": 11,
   "id": "b11110ae-9b9c-4d22-891d-5b295b4d33da",
   "metadata": {},
   "outputs": [
    {
     "data": {
      "text/plain": [
       "(4, 4)"
      ]
     },
     "execution_count": 11,
     "metadata": {},
     "output_type": "execute_result"
    }
   ],
   "source": [
    "df.shape"
   ]
  },
  {
   "cell_type": "markdown",
   "id": "2dc53c69-fdfc-4778-9cc5-50eeb43ea36d",
   "metadata": {},
   "source": [
    "`head(), tail()`"
   ]
  },
  {
   "cell_type": "code",
   "execution_count": null,
   "id": "4a007192-c7fa-48ca-821c-5730365cd4cf",
   "metadata": {},
   "outputs": [],
   "source": [
    "d = {'length': np.linspace(1, 19, num = 10), 'breadth': np.linspace(100, 199, num = 10)}\n",
    "df = pd.DataFrame(d)\n",
    "df"
   ]
  },
  {
   "cell_type": "code",
   "execution_count": 20,
   "id": "7df21b78-3044-462d-8f34-e0946e5872d4",
   "metadata": {},
   "outputs": [
    {
     "data": {
      "text/html": [
       "<div>\n",
       "<style scoped>\n",
       "    .dataframe tbody tr th:only-of-type {\n",
       "        vertical-align: middle;\n",
       "    }\n",
       "\n",
       "    .dataframe tbody tr th {\n",
       "        vertical-align: top;\n",
       "    }\n",
       "\n",
       "    .dataframe thead th {\n",
       "        text-align: right;\n",
       "    }\n",
       "</style>\n",
       "<table border=\"1\" class=\"dataframe\">\n",
       "  <thead>\n",
       "    <tr style=\"text-align: right;\">\n",
       "      <th></th>\n",
       "      <th>length</th>\n",
       "      <th>breadth</th>\n",
       "    </tr>\n",
       "  </thead>\n",
       "  <tbody>\n",
       "    <tr>\n",
       "      <th>0</th>\n",
       "      <td>1.0</td>\n",
       "      <td>100.0</td>\n",
       "    </tr>\n",
       "    <tr>\n",
       "      <th>1</th>\n",
       "      <td>3.0</td>\n",
       "      <td>111.0</td>\n",
       "    </tr>\n",
       "  </tbody>\n",
       "</table>\n",
       "</div>"
      ],
      "text/plain": [
       "   length  breadth\n",
       "0     1.0    100.0\n",
       "1     3.0    111.0"
      ]
     },
     "execution_count": 20,
     "metadata": {},
     "output_type": "execute_result"
    }
   ],
   "source": [
    "df.head(-8)"
   ]
  },
  {
   "cell_type": "code",
   "execution_count": null,
   "id": "80887616-4a1b-499f-9449-c0daf0ae6a10",
   "metadata": {},
   "outputs": [],
   "source": [
    "df.tail()"
   ]
  },
  {
   "cell_type": "markdown",
   "id": "e3d2ec49-4533-4f4f-b915-14b0ee010564",
   "metadata": {},
   "source": [
    "- empty"
   ]
  },
  {
   "cell_type": "code",
   "execution_count": 24,
   "id": "add5cc68-bae4-4ce7-816d-0415f789bc30",
   "metadata": {},
   "outputs": [
    {
     "data": {
      "text/plain": [
       "True"
      ]
     },
     "execution_count": 24,
     "metadata": {},
     "output_type": "execute_result"
    }
   ],
   "source": [
    "df_emp = pd.DataFrame()\n",
    "df_emp.empty"
   ]
  },
  {
   "cell_type": "markdown",
   "id": "9f8d9710-372d-4bb5-b3bd-56ef5426a70e",
   "metadata": {},
   "source": [
    "### Statistical or Mathmatical Functions"
   ]
  },
  {
   "cell_type": "code",
   "execution_count": 32,
   "id": "e03ffbdc-af62-4bd1-949d-a3c1a785793b",
   "metadata": {},
   "outputs": [
    {
     "data": {
      "text/html": [
       "<div>\n",
       "<style scoped>\n",
       "    .dataframe tbody tr th:only-of-type {\n",
       "        vertical-align: middle;\n",
       "    }\n",
       "\n",
       "    .dataframe tbody tr th {\n",
       "        vertical-align: top;\n",
       "    }\n",
       "\n",
       "    .dataframe thead th {\n",
       "        text-align: right;\n",
       "    }\n",
       "</style>\n",
       "<table border=\"1\" class=\"dataframe\">\n",
       "  <thead>\n",
       "    <tr style=\"text-align: right;\">\n",
       "      <th></th>\n",
       "      <th>one</th>\n",
       "      <th>two</th>\n",
       "      <th>three</th>\n",
       "      <th>four</th>\n",
       "    </tr>\n",
       "  </thead>\n",
       "  <tbody>\n",
       "    <tr>\n",
       "      <th>0</th>\n",
       "      <td>1</td>\n",
       "      <td>10</td>\n",
       "      <td>100</td>\n",
       "      <td>1000</td>\n",
       "    </tr>\n",
       "    <tr>\n",
       "      <th>1</th>\n",
       "      <td>2</td>\n",
       "      <td>20</td>\n",
       "      <td>200</td>\n",
       "      <td>2000</td>\n",
       "    </tr>\n",
       "    <tr>\n",
       "      <th>2</th>\n",
       "      <td>3</td>\n",
       "      <td>30</td>\n",
       "      <td>300</td>\n",
       "      <td>3000</td>\n",
       "    </tr>\n",
       "    <tr>\n",
       "      <th>3</th>\n",
       "      <td>4</td>\n",
       "      <td>40</td>\n",
       "      <td>400</td>\n",
       "      <td>4000</td>\n",
       "    </tr>\n",
       "  </tbody>\n",
       "</table>\n",
       "</div>"
      ],
      "text/plain": [
       "   one  two  three  four\n",
       "0    1   10    100  1000\n",
       "1    2   20    200  2000\n",
       "2    3   30    300  3000\n",
       "3    4   40    400  4000"
      ]
     },
     "execution_count": 32,
     "metadata": {},
     "output_type": "execute_result"
    }
   ],
   "source": [
    "data = {'one'   : pd.Series([1, 2, 3, 4]),\n",
    "        'two'   : pd.Series([10, 20, 30, 40]),\n",
    "        'three' : pd.Series([100, 200, 300, 400]),\n",
    "        'four'  : pd.Series([1000, 2000, 3000, 4000])}\n",
    "df = pd.DataFrame(data)\n",
    "df"
   ]
  },
  {
   "cell_type": "markdown",
   "id": "0ff00fd2-6acd-4ff5-9b42-92bb983d0a8a",
   "metadata": {},
   "source": [
    "- DataFrame.sum : Return the sum over the requested axis.\n",
    "- DataFrame.min : Return the minimum over the requested axis.\n",
    "- DataFrame.max : Return the maximum over the requested axis.\n",
    "- DataFrame.idxmin : Return the index of the minimum over the requested axis.\n",
    "- DataFrame.idxmax : Return the index of the maximum over the requested axis."
   ]
  },
  {
   "cell_type": "code",
   "execution_count": null,
   "id": "22cb3038-3c4e-4ebc-b104-811693a123c3",
   "metadata": {},
   "outputs": [],
   "source": [
    "# df.sum()\n",
    "# df[['one', 'two']].sum()\n",
    "\n",
    "# performing sum operation along rows\n",
    "# df.loc[0].sum()\n",
    "# df.loc[0, ['two', 'three']].sum()\n",
    "\n",
    "# df.sum(axis=1\n",
    "\n",
    "# df.max(axis=0)\n",
    "\n",
    "# df.idxmax(axis=1)"
   ]
  },
  {
   "cell_type": "markdown",
   "id": "5e4264dc-d185-4a97-b573-9436da802d54",
   "metadata": {},
   "source": [
    "2. mean()"
   ]
  },
  {
   "cell_type": "code",
   "execution_count": null,
   "id": "36f849ba-71ec-416f-a8d5-89ac45c1a2c3",
   "metadata": {},
   "outputs": [],
   "source": [
    "df.mean()"
   ]
  },
  {
   "cell_type": "code",
   "execution_count": null,
   "id": "d8cc92f9-b8ba-4c73-b48e-172388991848",
   "metadata": {},
   "outputs": [],
   "source": [
    "df.mode()"
   ]
  },
  {
   "cell_type": "code",
   "execution_count": null,
   "id": "7e5917b3-9a09-415c-8f61-b64d31310454",
   "metadata": {},
   "outputs": [],
   "source": [
    "df.median()"
   ]
  },
  {
   "cell_type": "code",
   "execution_count": null,
   "id": "6bcd8181-d0c6-46a0-88de-07c7b3e5a8c0",
   "metadata": {},
   "outputs": [],
   "source": [
    "df.var()"
   ]
  },
  {
   "cell_type": "code",
   "execution_count": null,
   "id": "53e4b2f2-5d4c-420e-ab2a-5b8bd08b1856",
   "metadata": {},
   "outputs": [],
   "source": [
    "df.std()"
   ]
  },
  {
   "cell_type": "markdown",
   "id": "f449c815-e694-41a0-af4a-49796cd5d87c",
   "metadata": {},
   "source": [
    "### `describe` function"
   ]
  },
  {
   "cell_type": "code",
   "execution_count": 47,
   "id": "aec37928-8424-40d7-8ea9-6452716c70d0",
   "metadata": {},
   "outputs": [
    {
     "data": {
      "text/html": [
       "<div>\n",
       "<style scoped>\n",
       "    .dataframe tbody tr th:only-of-type {\n",
       "        vertical-align: middle;\n",
       "    }\n",
       "\n",
       "    .dataframe tbody tr th {\n",
       "        vertical-align: top;\n",
       "    }\n",
       "\n",
       "    .dataframe thead th {\n",
       "        text-align: right;\n",
       "    }\n",
       "</style>\n",
       "<table border=\"1\" class=\"dataframe\">\n",
       "  <thead>\n",
       "    <tr style=\"text-align: right;\">\n",
       "      <th></th>\n",
       "      <th>one</th>\n",
       "      <th>two</th>\n",
       "      <th>three</th>\n",
       "      <th>four</th>\n",
       "    </tr>\n",
       "  </thead>\n",
       "  <tbody>\n",
       "    <tr>\n",
       "      <th>count</th>\n",
       "      <td>4.000000</td>\n",
       "      <td>4.000000</td>\n",
       "      <td>4.000000</td>\n",
       "      <td>4.000000</td>\n",
       "    </tr>\n",
       "    <tr>\n",
       "      <th>mean</th>\n",
       "      <td>2.500000</td>\n",
       "      <td>25.000000</td>\n",
       "      <td>250.000000</td>\n",
       "      <td>2500.000000</td>\n",
       "    </tr>\n",
       "    <tr>\n",
       "      <th>std</th>\n",
       "      <td>1.290994</td>\n",
       "      <td>12.909944</td>\n",
       "      <td>129.099445</td>\n",
       "      <td>1290.994449</td>\n",
       "    </tr>\n",
       "    <tr>\n",
       "      <th>min</th>\n",
       "      <td>1.000000</td>\n",
       "      <td>10.000000</td>\n",
       "      <td>100.000000</td>\n",
       "      <td>1000.000000</td>\n",
       "    </tr>\n",
       "    <tr>\n",
       "      <th>25%</th>\n",
       "      <td>1.750000</td>\n",
       "      <td>17.500000</td>\n",
       "      <td>175.000000</td>\n",
       "      <td>1750.000000</td>\n",
       "    </tr>\n",
       "    <tr>\n",
       "      <th>50%</th>\n",
       "      <td>2.500000</td>\n",
       "      <td>25.000000</td>\n",
       "      <td>250.000000</td>\n",
       "      <td>2500.000000</td>\n",
       "    </tr>\n",
       "    <tr>\n",
       "      <th>75%</th>\n",
       "      <td>3.250000</td>\n",
       "      <td>32.500000</td>\n",
       "      <td>325.000000</td>\n",
       "      <td>3250.000000</td>\n",
       "    </tr>\n",
       "    <tr>\n",
       "      <th>max</th>\n",
       "      <td>4.000000</td>\n",
       "      <td>40.000000</td>\n",
       "      <td>400.000000</td>\n",
       "      <td>4000.000000</td>\n",
       "    </tr>\n",
       "  </tbody>\n",
       "</table>\n",
       "</div>"
      ],
      "text/plain": [
       "            one        two       three         four\n",
       "count  4.000000   4.000000    4.000000     4.000000\n",
       "mean   2.500000  25.000000  250.000000  2500.000000\n",
       "std    1.290994  12.909944  129.099445  1290.994449\n",
       "min    1.000000  10.000000  100.000000  1000.000000\n",
       "25%    1.750000  17.500000  175.000000  1750.000000\n",
       "50%    2.500000  25.000000  250.000000  2500.000000\n",
       "75%    3.250000  32.500000  325.000000  3250.000000\n",
       "max    4.000000  40.000000  400.000000  4000.000000"
      ]
     },
     "execution_count": 47,
     "metadata": {},
     "output_type": "execute_result"
    }
   ],
   "source": [
    "data = {'one'   : pd.Series([1, 2, 3, 4]),\n",
    "        'two'   : pd.Series([10, 20, 30, 40]),\n",
    "        'three' : pd.Series([100, 200, 300, 400]),\n",
    "        'four'  : pd.Series([1000, 2000, 3000, 4000]),\n",
    "        'five'  : pd.Series(['A', 'B', 'C', 'D'])}\n",
    "df = pd.DataFrame(data)\n",
    "df.describe()"
   ]
  },
  {
   "cell_type": "markdown",
   "id": "841bbc70-23b6-45d1-a7bf-26162b6c1669",
   "metadata": {},
   "source": [
    "> Note: quantile function is used to find percentiles of the data"
   ]
  },
  {
   "cell_type": "code",
   "execution_count": 52,
   "id": "65aa4ea3-a98f-4788-98c9-a18425532941",
   "metadata": {},
   "outputs": [
    {
     "name": "stdout",
     "output_type": "stream",
     "text": [
      "25%: 1.75\n"
     ]
    },
    {
     "data": {
      "text/plain": [
       "one    3.25\n",
       "Name: 0.75, dtype: float64"
      ]
     },
     "execution_count": 52,
     "metadata": {},
     "output_type": "execute_result"
    }
   ],
   "source": [
    "print(f'25%: {df['one'].quantile(.25)}')    # 25%\n",
    "df[['one']].quantile(.75)"
   ]
  },
  {
   "cell_type": "code",
   "execution_count": 54,
   "id": "f8011899-8a5e-471c-ab0f-c01547fd5613",
   "metadata": {},
   "outputs": [
    {
     "data": {
      "text/html": [
       "<div>\n",
       "<style scoped>\n",
       "    .dataframe tbody tr th:only-of-type {\n",
       "        vertical-align: middle;\n",
       "    }\n",
       "\n",
       "    .dataframe tbody tr th {\n",
       "        vertical-align: top;\n",
       "    }\n",
       "\n",
       "    .dataframe thead th {\n",
       "        text-align: right;\n",
       "    }\n",
       "</style>\n",
       "<table border=\"1\" class=\"dataframe\">\n",
       "  <thead>\n",
       "    <tr style=\"text-align: right;\">\n",
       "      <th></th>\n",
       "      <th>one</th>\n",
       "      <th>two</th>\n",
       "      <th>three</th>\n",
       "      <th>four</th>\n",
       "    </tr>\n",
       "  </thead>\n",
       "  <tbody>\n",
       "    <tr>\n",
       "      <th>count</th>\n",
       "      <td>4.000000</td>\n",
       "      <td>4.000000</td>\n",
       "      <td>4.000000</td>\n",
       "      <td>4.000000</td>\n",
       "    </tr>\n",
       "    <tr>\n",
       "      <th>mean</th>\n",
       "      <td>2.500000</td>\n",
       "      <td>25.000000</td>\n",
       "      <td>250.000000</td>\n",
       "      <td>2500.000000</td>\n",
       "    </tr>\n",
       "    <tr>\n",
       "      <th>std</th>\n",
       "      <td>1.290994</td>\n",
       "      <td>12.909944</td>\n",
       "      <td>129.099445</td>\n",
       "      <td>1290.994449</td>\n",
       "    </tr>\n",
       "    <tr>\n",
       "      <th>min</th>\n",
       "      <td>1.000000</td>\n",
       "      <td>10.000000</td>\n",
       "      <td>100.000000</td>\n",
       "      <td>1000.000000</td>\n",
       "    </tr>\n",
       "    <tr>\n",
       "      <th>25%</th>\n",
       "      <td>1.750000</td>\n",
       "      <td>17.500000</td>\n",
       "      <td>175.000000</td>\n",
       "      <td>1750.000000</td>\n",
       "    </tr>\n",
       "    <tr>\n",
       "      <th>50%</th>\n",
       "      <td>2.500000</td>\n",
       "      <td>25.000000</td>\n",
       "      <td>250.000000</td>\n",
       "      <td>2500.000000</td>\n",
       "    </tr>\n",
       "    <tr>\n",
       "      <th>75%</th>\n",
       "      <td>3.250000</td>\n",
       "      <td>32.500000</td>\n",
       "      <td>325.000000</td>\n",
       "      <td>3250.000000</td>\n",
       "    </tr>\n",
       "    <tr>\n",
       "      <th>max</th>\n",
       "      <td>4.000000</td>\n",
       "      <td>40.000000</td>\n",
       "      <td>400.000000</td>\n",
       "      <td>4000.000000</td>\n",
       "    </tr>\n",
       "  </tbody>\n",
       "</table>\n",
       "</div>"
      ],
      "text/plain": [
       "            one        two       three         four\n",
       "count  4.000000   4.000000    4.000000     4.000000\n",
       "mean   2.500000  25.000000  250.000000  2500.000000\n",
       "std    1.290994  12.909944  129.099445  1290.994449\n",
       "min    1.000000  10.000000  100.000000  1000.000000\n",
       "25%    1.750000  17.500000  175.000000  1750.000000\n",
       "50%    2.500000  25.000000  250.000000  2500.000000\n",
       "75%    3.250000  32.500000  325.000000  3250.000000\n",
       "max    4.000000  40.000000  400.000000  4000.000000"
      ]
     },
     "execution_count": 54,
     "metadata": {},
     "output_type": "execute_result"
    }
   ],
   "source": [
    "df.describe(exclude=[object])"
   ]
  },
  {
   "cell_type": "code",
   "execution_count": 55,
   "id": "d1da7987-22c1-4a51-bdd5-5afccff95c87",
   "metadata": {},
   "outputs": [
    {
     "data": {
      "text/html": [
       "<div>\n",
       "<style scoped>\n",
       "    .dataframe tbody tr th:only-of-type {\n",
       "        vertical-align: middle;\n",
       "    }\n",
       "\n",
       "    .dataframe tbody tr th {\n",
       "        vertical-align: top;\n",
       "    }\n",
       "\n",
       "    .dataframe thead th {\n",
       "        text-align: right;\n",
       "    }\n",
       "</style>\n",
       "<table border=\"1\" class=\"dataframe\">\n",
       "  <thead>\n",
       "    <tr style=\"text-align: right;\">\n",
       "      <th></th>\n",
       "      <th>five</th>\n",
       "    </tr>\n",
       "  </thead>\n",
       "  <tbody>\n",
       "    <tr>\n",
       "      <th>count</th>\n",
       "      <td>4</td>\n",
       "    </tr>\n",
       "    <tr>\n",
       "      <th>unique</th>\n",
       "      <td>4</td>\n",
       "    </tr>\n",
       "    <tr>\n",
       "      <th>top</th>\n",
       "      <td>A</td>\n",
       "    </tr>\n",
       "    <tr>\n",
       "      <th>freq</th>\n",
       "      <td>1</td>\n",
       "    </tr>\n",
       "  </tbody>\n",
       "</table>\n",
       "</div>"
      ],
      "text/plain": [
       "       five\n",
       "count     4\n",
       "unique    4\n",
       "top       A\n",
       "freq      1"
      ]
     },
     "execution_count": 55,
     "metadata": {},
     "output_type": "execute_result"
    }
   ],
   "source": [
    "df.describe(include=[object])"
   ]
  },
  {
   "cell_type": "code",
   "execution_count": 56,
   "id": "3c65641e-0391-4ba4-9a7e-fbc6487895f8",
   "metadata": {},
   "outputs": [
    {
     "data": {
      "text/plain": [
       "count     4.000000\n",
       "mean     25.000000\n",
       "std      12.909944\n",
       "min      10.000000\n",
       "25%      17.500000\n",
       "50%      25.000000\n",
       "75%      32.500000\n",
       "max      40.000000\n",
       "Name: two, dtype: float64"
      ]
     },
     "execution_count": 56,
     "metadata": {},
     "output_type": "execute_result"
    }
   ],
   "source": [
    "# describing a column by taking col as attribute from DataFrame\n",
    "df.two.describe()"
   ]
  },
  {
   "cell_type": "code",
   "execution_count": 57,
   "id": "82792d09-98bc-4211-8696-3f08954a3122",
   "metadata": {},
   "outputs": [
    {
     "data": {
      "text/html": [
       "<div>\n",
       "<style scoped>\n",
       "    .dataframe tbody tr th:only-of-type {\n",
       "        vertical-align: middle;\n",
       "    }\n",
       "\n",
       "    .dataframe tbody tr th {\n",
       "        vertical-align: top;\n",
       "    }\n",
       "\n",
       "    .dataframe thead th {\n",
       "        text-align: right;\n",
       "    }\n",
       "</style>\n",
       "<table border=\"1\" class=\"dataframe\">\n",
       "  <thead>\n",
       "    <tr style=\"text-align: right;\">\n",
       "      <th></th>\n",
       "      <th>two</th>\n",
       "      <th>four</th>\n",
       "    </tr>\n",
       "  </thead>\n",
       "  <tbody>\n",
       "    <tr>\n",
       "      <th>count</th>\n",
       "      <td>4.000000</td>\n",
       "      <td>4.000000</td>\n",
       "    </tr>\n",
       "    <tr>\n",
       "      <th>mean</th>\n",
       "      <td>25.000000</td>\n",
       "      <td>2500.000000</td>\n",
       "    </tr>\n",
       "    <tr>\n",
       "      <th>std</th>\n",
       "      <td>12.909944</td>\n",
       "      <td>1290.994449</td>\n",
       "    </tr>\n",
       "    <tr>\n",
       "      <th>min</th>\n",
       "      <td>10.000000</td>\n",
       "      <td>1000.000000</td>\n",
       "    </tr>\n",
       "    <tr>\n",
       "      <th>25%</th>\n",
       "      <td>17.500000</td>\n",
       "      <td>1750.000000</td>\n",
       "    </tr>\n",
       "    <tr>\n",
       "      <th>50%</th>\n",
       "      <td>25.000000</td>\n",
       "      <td>2500.000000</td>\n",
       "    </tr>\n",
       "    <tr>\n",
       "      <th>75%</th>\n",
       "      <td>32.500000</td>\n",
       "      <td>3250.000000</td>\n",
       "    </tr>\n",
       "    <tr>\n",
       "      <th>max</th>\n",
       "      <td>40.000000</td>\n",
       "      <td>4000.000000</td>\n",
       "    </tr>\n",
       "  </tbody>\n",
       "</table>\n",
       "</div>"
      ],
      "text/plain": [
       "             two         four\n",
       "count   4.000000     4.000000\n",
       "mean   25.000000  2500.000000\n",
       "std    12.909944  1290.994449\n",
       "min    10.000000  1000.000000\n",
       "25%    17.500000  1750.000000\n",
       "50%    25.000000  2500.000000\n",
       "75%    32.500000  3250.000000\n",
       "max    40.000000  4000.000000"
      ]
     },
     "execution_count": 57,
     "metadata": {},
     "output_type": "execute_result"
    }
   ],
   "source": [
    "df[['two', 'four']].describe()"
   ]
  },
  {
   "cell_type": "code",
   "execution_count": null,
   "id": "50d38738-65fd-4b53-887a-eb11d8125a67",
   "metadata": {},
   "outputs": [],
   "source": []
  }
 ],
 "metadata": {
  "kernelspec": {
   "display_name": "Python 3 (ipykernel)",
   "language": "python",
   "name": "python3"
  },
  "language_info": {
   "codemirror_mode": {
    "name": "ipython",
    "version": 3
   },
   "file_extension": ".py",
   "mimetype": "text/x-python",
   "name": "python",
   "nbconvert_exporter": "python",
   "pygments_lexer": "ipython3",
   "version": "3.13.1"
  }
 },
 "nbformat": 4,
 "nbformat_minor": 5
}
